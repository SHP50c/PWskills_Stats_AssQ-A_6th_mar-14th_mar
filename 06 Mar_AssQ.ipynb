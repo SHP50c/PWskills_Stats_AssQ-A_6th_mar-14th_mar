{
 "cells": [
  {
   "cell_type": "raw",
   "id": "3b9dacd4-d60d-4f23-82ae-bdddd56ad6cf",
   "metadata": {},
   "source": [
    "Q1. What is Statistics?\n",
    "ans:Statistics is the science of collecting, organising and analysing data"
   ]
  },
  {
   "cell_type": "raw",
   "id": "5a7b2de8-c849-4c04-b932-58aad8f7bc5c",
   "metadata": {},
   "source": [
    "Q2. Define the different types of statistics and give an example of when each type might be used.\n",
    "ans:1)Descriptive Statistics:-It consist of organising and summarizing data.\n",
    "    For example it can used to calculate \n",
    "        i)mesure of central tendancy(mean,median,mode)\n",
    "        ii)measure of dispersion(variance,standard deviation)\n",
    "        iii)different type of distribution of the data(histogram,pdf,pmf)\n",
    "    2)Infrential Statistics:-It consist of using data you have messured to form conclusion.\n",
    "        it can be used to find the conclusion of population data using the set of data base.\n",
    "        for example we take the scores of ssc pass out students from one school and try to get the hypothesis for the\n",
    "        scores of ssc pass out student of the entire country. here scores of ssc pass out students from one school is set\n",
    "        of data base and the scores of ssc pass out student of the entire country is population data."
   ]
  },
  {
   "cell_type": "raw",
   "id": "3e0b21b5-5fe0-4fd8-ae5f-6d6bf31e9eb8",
   "metadata": {},
   "source": [
    "Q3. What are the different types of data and how do they differ from each other? Provide an example of\n",
    "each type of data.\n",
    "ans:There are 2 types of data population data and sample data\n",
    "    1)Quantitative data:-Quantitative data is data that can be counted or measured in numerical values. This data can be\n",
    "    further categorized as\n",
    "        \n",
    "        i)Discrite data:-Discrete data is a type of quantitative data that includes nondivisible figures and statistics you\n",
    "        can count. In simple words it contains only whole numbers. \n",
    "        example:-Number of bank accounts of a person, number of students in the school,etc.\n",
    "        \n",
    "        ii)continuous data:-Continuous data is data that can take any value. Height, weight, temperature and length are all\n",
    "        examples of continuous data. \n",
    "    \n",
    "   \n",
    "   2)Qualitative data:-Qualitative data is information that cannot be counted, measured or easily expressed using numbers.\n",
    "    similarly Qualitative data can also be further categorized as\n",
    "        i)Nominal data:-is a type of data that is used to label variables without providing any quantitative value.\n",
    "        example:- Gender, Blood group, Pin code\n",
    "        \n",
    "        ii)Ordinal data:-Ordinal data is a categorical, statistical data type where the variables have natural, ordered\n",
    "        categories and the distances between the categories are not known.\n",
    "        example:-Customer feedback (good, better, worse)\n",
    "                 Income (Low, Medium, High)"
   ]
  },
  {
   "cell_type": "raw",
   "id": "bbe30995-b30e-452d-acdb-24ad968ffe9c",
   "metadata": {},
   "source": [
    "Q4. Categorise the following datasets with respect to quantitative and qualitative data types:\n",
    "(i) Grading in exam: A+, A, B+, B, C+, C, D, E\n",
    "(ii) Colour of mangoes: yellow, green, orange, red\n",
    "(iii) Height data of a class: [178.9, 179, 179.5, 176, 177.2, 178.3, 175.8,...]\n",
    "(iv) Number of mangoes exported by a farm: [500, 600, 478, 672, ...]\n",
    "ans:(i) Grading in exam: A+, A, B+, B, C+, C, D, E\n",
    "    This data set is qualitative data set (ordinal data set)\n",
    "    \n",
    "    (ii)Colour of mangoes: yellow, green, orange, red\n",
    "    This data set is qualitative data set (nominal data set)\n",
    "    \n",
    "    (iii) Height data of a class: [178.9, 179, 179.5, 176, 177.2, 178.3, 175.8,...]\n",
    "    This data set is quantitative data set (continuous data set)\n",
    "    \n",
    "    (iv) Number of mangoes exported by a farm: [500, 600, 478, 672, ...]\n",
    "    This data set is quantitative data set (Discrite data set)"
   ]
  },
  {
   "cell_type": "raw",
   "id": "b45c2d41-82cc-4df0-b92a-3fd19fdc7376",
   "metadata": {},
   "source": [
    "Q5. Explain the concept of levels of measurement and give an example of a variable for each level.\n",
    "ans:Level of measurement or scale of measure is a classification that describes the nature of information within the values\n",
    "    assigned to variables.\n",
    "    there are 4 levels of measurement they are as follows:\n",
    "    1)nominal scale data:- i)It is qualitative type\n",
    "                           ii)example colour of mangoes,gender, labels\n",
    "                           iii)here order does not matter\n",
    "    \n",
    "    2)ordinal scale data:- i)It is qualitative type\n",
    "                           ii)Difference cannot be measured\n",
    "                           iii)Ranking is important(order is important)\n",
    "                           vi)Customer feedback (good, better, worse), Income (Low, Medium, High)\n",
    "    \n",
    "    3)interval scale data:-i)Order is important\n",
    "                           ii)Difference can be measured\n",
    "                           iii)Ratio cannot be measured\n",
    "                           vi)No true starting point\n",
    "                           v)example temperature variable\n",
    "    \n",
    "    4)ratio scale data:-   i)Order is important\n",
    "                           ii)Differences can be measured\n",
    "                           iii)Ratio can be measured\n",
    "                           vi)contains a true starting point\n",
    "                           v)example marks obtained by the students\n",
    "                           "
   ]
  },
  {
   "cell_type": "raw",
   "id": "2268b7de-6b12-4368-8848-c84edaff49b0",
   "metadata": {},
   "source": [
    "Q6. Why is it important to understand the level of measurement when analyzing data? Provide an\n",
    "example to illustrate your answer.\n",
    "ans:It is important to understand the level of measurement of variables in research, because the level of measurement\n",
    "    determines the type of statistical analysis that can be conducted, and, therefore, the type of conclusions that can be\n",
    "    drawn from the research.\n",
    "    example:-\n",
    "    Nominal–Latin for name only (Republican, Democrat, Green, Libertarian)\n",
    "\n",
    "    Ordinal–Think ordered levels or ranks (small–8oz, medium–12oz, large–32oz)\n",
    "\n",
    "    Interval–Equal intervals among levels (1 dollar to 2 dollars is the same interval as 88 dollars to 89 dollars)\n",
    "\n",
    "    Ratio–Let the “o” in ratio remind you of a zero in the scale (Day 0, day 1, day 2, day 3, …)"
   ]
  },
  {
   "cell_type": "raw",
   "id": "abce0a05-4903-48fa-8b3d-9273df554032",
   "metadata": {},
   "source": [
    "Q7. How nominal data type is different from ordinal data type.\n",
    "ans:1)nominal scale data:- i)It is qualitative type\n",
    "                           ii)example colour of mangoes,gender, labels\n",
    "                           iii)here order does not matter\n",
    "    \n",
    "    2)ordinal scale data:- i)It is qualitative type\n",
    "                           ii)Difference cannot be measured\n",
    "                           iii)Ranking is important(order is important)\n",
    "                           vi)Customer feedback (good, better, worse), Income (Low, Medium, High)"
   ]
  },
  {
   "cell_type": "raw",
   "id": "4ef7d48f-008b-4429-ae4d-bf5f340411c5",
   "metadata": {},
   "source": [
    "Q8. Which type of plot can be used to display data in terms of range?\n",
    "ans:Bar plot is suitable to display in terms of range."
   ]
  },
  {
   "cell_type": "raw",
   "id": "f480dd9a-a2fb-4213-b6f4-44d855ecbbf8",
   "metadata": {},
   "source": [
    "Q9. Describe the difference between descriptive and inferential statistics. Give an example of each\n",
    "type of statistics and explain how they are used.\n",
    "ans:Descriptive Statistics: 1)It gives information about raw data which describes the data in some manner.\n",
    "                            2)It helps in organizing, analyzing, and to present data in a meaningful manner.\n",
    "                            3)It is used to describe a situation.\n",
    "                            4)It explains already known data and is limited to a sample or population having a small size.\n",
    "                            5)It can be achieved with the help of charts, graphs, tables, etc.\n",
    "                            For example it can used to calculate (considering variable of height of students in class)\n",
    "                            i)mesure of central tendancy(mean,median,mode)\n",
    "                            ii)measure of dispersion(variance,standard deviation)\n",
    "                            iii)different type of distribution of the data(histogram,pdf,pmf)\n",
    "    \n",
    "    Inferential Statistics: 1)It makes inferences about the population using data drawn from the population.\n",
    "                            2)It allows us to compare data, and make hypotheses and predictions.\n",
    "                            3)It is used to explain the chance of occurrence of an event.\n",
    "                            4)It attempts to reach the conclusion about the population.\n",
    "                            5)It can be achieved by probability.\n",
    "                            for example we take the scores of ssc pass out students from one school and try to get the\n",
    "                            hypothesis for the scores of ssc pass out student of the entire country. here scores of ssc\n",
    "                            pass out students from one school is set of data base and the scores of ssc pass out student of\n",
    "                            the entire country is population data."
   ]
  },
  {
   "cell_type": "raw",
   "id": "eed1b93a-e3d7-4e31-8425-d80f29772c78",
   "metadata": {},
   "source": [
    "Q10. What are some common measures of central tendency and variability used in statistics? Explain\n",
    "how each measure can be used to describe a dataset.\n",
    "ans:Three measures of central tendency are the mean, the mode and the median .\n",
    "    Mean:-The mean is what people typically refer to as \"the average\". It is the highest measure of central tendency, by which \n",
    "    mean is available for use only with interval/ratio variables. The mean takes into account the value of every observation\n",
    "    and thus provides the most information of any measure of central tendency.\n",
    "    \n",
    "    Mode:-The mode is one of the values of the measures of central tendency. This value gives us a rough idea about which of the\n",
    "    items in a data set tend to occur most frequently.\n",
    "    \n",
    "    Median:-Median represents the middle value for any group. It is the point at which half the data is more and half the data\n",
    "    is less. Median helps to represent a large number of data points with a single data point. The median is the easiest \n",
    "    statistical measure to calculate. For calculation of median, the data has to be arranged in ascending order, and then the \n",
    "    middlemost data point represents the median of the data."
   ]
  }
 ],
 "metadata": {
  "kernelspec": {
   "display_name": "Python 3 (ipykernel)",
   "language": "python",
   "name": "python3"
  },
  "language_info": {
   "codemirror_mode": {
    "name": "ipython",
    "version": 3
   },
   "file_extension": ".py",
   "mimetype": "text/x-python",
   "name": "python",
   "nbconvert_exporter": "python",
   "pygments_lexer": "ipython3",
   "version": "3.10.6"
  }
 },
 "nbformat": 4,
 "nbformat_minor": 5
}
