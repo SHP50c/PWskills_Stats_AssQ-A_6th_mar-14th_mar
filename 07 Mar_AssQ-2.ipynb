{
 "cells": [
  {
   "cell_type": "raw",
   "id": "784ae4f9-1e9c-46a5-9f2b-3627d2a9f59d",
   "metadata": {},
   "source": [
    "Q1.What are the three measures of central tendency?\n",
    "ans:The three measures of central tendency are:\n",
    "    1)mode.\n",
    "    2)median.\n",
    "    3)mean."
   ]
  },
  {
   "cell_type": "raw",
   "id": "2d460bfe-6b2b-4df8-a467-b1eff111deeb",
   "metadata": {},
   "source": [
    "Q2. What is the difference between the mean, median, and mode? How are they used to measure the\n",
    "central tendency of a dataset?\n",
    "ans:Mean:-The mean is what people typically refer to as \"the average\". It is the highest measure of central tendency, by which \n",
    "    mean is available for use only with interval/ratio variables. The mean takes into account the value of every observation\n",
    "    and thus provides the most information of any measure of central tendency.\n",
    "    \n",
    "    Mode:-The mode is one of the values of the measures of central tendency. This value gives us a rough idea about which of the\n",
    "    items in a data set tend to occur most frequently.\n",
    "    \n",
    "    Median:-Median represents the middle value for any group. It is the point at which half the data is more and half the data\n",
    "    is less. Median helps to represent a large number of data points with a single data point. The median is the easiest \n",
    "    statistical measure to calculate. For calculation of median, the data has to be arranged in ascending order, and then the \n",
    "    middlemost data point represents the median of the data."
   ]
  },
  {
   "cell_type": "raw",
   "id": "4b608ca5-feac-42af-bb23-6bef7a3ae822",
   "metadata": {},
   "source": [
    "Q3. Measure the three measures of central tendency for the given height data:\n",
    "\n",
    " [178,177,176,177,178.2,178,175,179,180,175,178.9,176.2,177,172.5,178,176.5]\n",
    "\n"
   ]
  },
  {
   "cell_type": "code",
   "execution_count": 15,
   "id": "7072b8fe-9635-4490-b3ba-0cceb71ea793",
   "metadata": {},
   "outputs": [
    {
     "name": "stdout",
     "output_type": "stream",
     "text": [
      "mean= 177.01875 \n",
      "meadian= 177.0 \n",
      " ModeResult(mode=array([177.]), count=array([3]))\n"
     ]
    },
    {
     "name": "stderr",
     "output_type": "stream",
     "text": [
      "/tmp/ipykernel_126/3636476613.py:6: FutureWarning: Unlike other reduction functions (e.g. `skew`, `kurtosis`), the default behavior of `mode` typically preserves the axis it acts along. In SciPy 1.11.0, this behavior will change: the default value of `keepdims` will become False, the `axis` over which the statistic is taken will be eliminated, and the value None will no longer be accepted. Set `keepdims` to True or False to avoid this warning.\n",
      "  mode=stats.mode(height)\n"
     ]
    }
   ],
   "source": [
    "import numpy as np\n",
    "from scipy import stats\n",
    "height=[178,177,176,177,178.2,178,175,179,180,175,178.9,176.2,177,172.5,178,176.5]\n",
    "mean=np.mean(height)\n",
    "median=np.median(height)\n",
    "mode=stats.mode(height)\n",
    "print(\"mean=\",mean,\"\\nmeadian=\",median,\"\\n\",mode)"
   ]
  },
  {
   "cell_type": "raw",
   "id": "8e3cce84-3e2e-462a-b7f8-7df55478e3dc",
   "metadata": {},
   "source": [
    "Q4. Find the standard deviation for the given data:\n",
    "\n",
    "[178,177,176,177,178.2,178,175,179,180,175,178.9,176.2,177,172.5,178,176.5]\n",
    "\n"
   ]
  },
  {
   "cell_type": "code",
   "execution_count": 16,
   "id": "2b47b6bd-01f7-4f95-bc0f-be6624408a55",
   "metadata": {},
   "outputs": [
    {
     "data": {
      "text/plain": [
       "1.7885814036548633"
      ]
     },
     "execution_count": 16,
     "metadata": {},
     "output_type": "execute_result"
    }
   ],
   "source": [
    "import numpy as np\n",
    "height=[178,177,176,177,178.2,178,175,179,180,175,178.9,176.2,177,172.5,178,176.5]\n",
    "np.std(height)"
   ]
  },
  {
   "cell_type": "raw",
   "id": "398a142e-453f-4972-a6b6-5a761aab051d",
   "metadata": {},
   "source": [
    "Q5. How are measures of dispersion such as range, variance, and standard deviation used to describe\n",
    "the spread of a dataset? Provide an example.\n",
    "ans:Range:The range of a data set is the difference between the maximum and the minimum values. It measures variability using\n",
    "    the same units as the data. Larger values represent greater variability.\n",
    "    \n",
    "    Variance:The variance is mean squared difference between each data point and the centre of the distribution measured by the\n",
    "    mean.\n",
    "    \n",
    "    Standard deviation:The standard deviation is the average amount of variability in your dataset. It tells you, on average,\n",
    "    how far each value lies from the mean. A high standard deviation means that values are generally far from the mean, while a \n",
    "    low standard deviation indicates that values are clustered close to the mean.\n",
    "    \n",
    "    example: [1,2,3,4,5]\n",
    "    range= 5-1=4\n",
    "    variance\n",
    "    σ^2=(Σ(xi-μ)^2)/N\n",
    "       =((1-3)^2+(2-3)^2+(3-3)^2+(4-3)^2+(5-3)^2)/5\n",
    "       =(4+1+0+1+4)/5\n",
    "       =10/5\n",
    "       =2\n",
    "    Standard deviation\n",
    "    σ=√variance\n",
    "     =√2"
   ]
  },
  {
   "cell_type": "raw",
   "id": "3254e68f-e250-4128-8ef1-6f918c78dd1f",
   "metadata": {},
   "source": [
    "Q6. What is a Venn diagram?\n",
    "ans:A Venn diagram is an illustration that uses circles to show the relationships among things or finite groups of things\n"
   ]
  },
  {
   "cell_type": "raw",
   "id": "4f8797d7-7aa9-4c0d-a364-fcc67fea0591",
   "metadata": {},
   "source": [
    "Q7. For the two given sets A = (2,3,4,5,6,7) & B = (0,2,6,8,10). Find:\n",
    "\n",
    "(i) \tA n B\n",
    "ans:A n B=(2,6)\n",
    "\n",
    "(ii)\tA ⋃ B\n",
    "ans:A U B=(0,2,3,4,5,6,7,8,10)\n"
   ]
  },
  {
   "cell_type": "raw",
   "id": "ebca8f40-9156-4b44-a1e6-e57c33cc3661",
   "metadata": {},
   "source": [
    "Q8. What do you understand about skewness in data?\n",
    "ans: Skewness is a measurement of the distortion of symmetrical distribution or asymmetry in a data set. Skewness is\n",
    "    demonstrated on a bell curve when data points are not distributed symmetrically to the left and right sides of the median on\n",
    "    a bell curve.\n"
   ]
  },
  {
   "cell_type": "raw",
   "id": "d2ed7510-232e-46ea-ae05-e09396a17517",
   "metadata": {},
   "source": [
    "Q9. If a data is right skewed then what will be the position of median with respect to mean?\n",
    "ans:If a data is right skewed then the position of median with respect to mean will be less than mean or in other words it'll be\n",
    "    to the left of the mean.\n"
   ]
  },
  {
   "cell_type": "raw",
   "id": "a30c2564-4ed5-4cf9-b0dd-87096389dae7",
   "metadata": {},
   "source": [
    "Q10. Explain the difference between covariance and correlation. How are these measures used in\n",
    "statistical analysis?\n",
    "ans:covariance:Covariance is a statistical term that refers to a systematic relationship between two random variables in which a\n",
    "    change in the other reflects a change in one variable. When two stocks tend to move together, they are seen as having a\n",
    "    positive covariance. when they move inversely, the covariance is negative.\n",
    "\n",
    "    correlation:Correlation is a statistical measure that expresses the extent to which two variables are linearly related\n",
    "    (meaning they change together at a constant rate). It's a common tool for describing simple relationships without making a\n",
    "    statement about cause and effect.\n",
    "    "
   ]
  },
  {
   "cell_type": "raw",
   "id": "cb87db5a-0fe3-42bb-8ec4-53f63fdcb84e",
   "metadata": {},
   "source": [
    "Q11. What is the formula for calculating the sample mean? Provide an example calculation for a dataset.\n",
    "ans: formula to calculate sample mean is\n",
    "        x̄ = ( Σ xi ) / n\n",
    "    example:\n",
    "    x=[1,2,3,3,2,2,1]\n",
    "    x̄ = ( Σ xi ) / n\n",
    "    x̄ = [1+1+2+2+2+3+3]/7\n",
    "      = 14/7\n",
    "      = 2"
   ]
  },
  {
   "cell_type": "raw",
   "id": "b3dea15a-f679-4a0f-a0ff-f7874566e597",
   "metadata": {},
   "source": [
    "Q12. For a normal distribution data what is the relationship between its measure of central tendency?\n",
    "ans:Any normal distribution has a graph that is perfectly symmetric about a vertical line through its peak. Therefore, all\n",
    "    measures of central tendency (most commonly, the mean, median, and mode) give the same answer: the x -value of the peak\n"
   ]
  },
  {
   "cell_type": "raw",
   "id": "6a70b590-4fc5-435e-a6e4-997dc2bc2bc5",
   "metadata": {},
   "source": [
    "Q13. How is covariance different from correlation?\n",
    "ans:covariance:Covariance is a statistical term that refers to a systematic relationship between two random variables in which a\n",
    "    change in the other reflects a change in one variable. When two stocks tend to move together, they are seen as having a\n",
    "    positive covariance. when they move inversely, the covariance is negative.\n",
    "\n",
    "    correlation:Correlation is a statistical measure that expresses the extent to which two variables are linearly related\n",
    "    (meaning they change together at a constant rate). It's a common tool for describing simple relationships without making a\n",
    "    statement about cause and effect.\n",
    "    "
   ]
  },
  {
   "cell_type": "raw",
   "id": "62b6089a-a3a7-4a3c-a297-5ea2a00a2796",
   "metadata": {},
   "source": [
    "Q14. How do outliers affect measures of central tendency and dispersion? Provide an example.\n",
    "ans: Outliers affect the mean value of the data but have little effect on the median or mode of a given set of data.\n",
    "    for example:\n",
    "    consider a data set [1,2,3,4,5] so mean of this data set is 15/5=3 median=3\n",
    "    consider a data set [1,2,3,4,5,100] so mean of this data set is 115/5=23 median=(3+4)/2=3.5\n",
    "    now as you can see in above data set we put an outlier (100) in that \n",
    "    data set and we see that the mean of that data set has drastically changed but median seem to have\n",
    "    nearlly eaqual values in both the cases."
   ]
  }
 ],
 "metadata": {
  "kernelspec": {
   "display_name": "Python 3 (ipykernel)",
   "language": "python",
   "name": "python3"
  },
  "language_info": {
   "codemirror_mode": {
    "name": "ipython",
    "version": 3
   },
   "file_extension": ".py",
   "mimetype": "text/x-python",
   "name": "python",
   "nbconvert_exporter": "python",
   "pygments_lexer": "ipython3",
   "version": "3.10.6"
  }
 },
 "nbformat": 4,
 "nbformat_minor": 5
}
