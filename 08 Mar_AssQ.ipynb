{
 "cells": [
  {
   "cell_type": "raw",
   "id": "d82badda-8490-43ba-8e3d-259a351c82bf",
   "metadata": {},
   "source": [
    "Q1. What is the Probability density function?\n",
    "ans:Probability density function defines the density of the probability that a continuous random variable will lie within a\n",
    "    particular range of values."
   ]
  },
  {
   "cell_type": "raw",
   "id": "9918e677-402a-4523-a6ff-bc1c46420069",
   "metadata": {},
   "source": [
    "Q2. What are the types of Probability distribution?\n",
    "ans:Types of Probability Distribution are as follows\n",
    "    1)Normal/Gaussian Distribution\n",
    "    2)Bernoulli Distribution\n",
    "    3)Uniform Distribution\n",
    "    4)Poison Distribution\n",
    "    5)Log normal Distribution\n",
    "    6)Binomial Distribution"
   ]
  },
  {
   "cell_type": "raw",
   "id": "69e9fe26-37e7-4234-8ace-11d1a04b787c",
   "metadata": {},
   "source": [
    "Q3. Write a Python function to calculate the probability density function of a normal distribution with\n",
    "given mean and standard deviation at a given point."
   ]
  },
  {
   "cell_type": "code",
   "execution_count": 3,
   "id": "61889aa3-f853-4adc-9658-ce656d8197c1",
   "metadata": {},
   "outputs": [
    {
     "name": "stdout",
     "output_type": "stream",
     "text": [
      "0.0 \n",
      " 3.1622776601683795 \n",
      " 0.0804410163156249\n"
     ]
    },
    {
     "data": {
      "text/plain": [
       "array([-5., -4., -3., -2., -1.,  0.,  1.,  2.,  3.,  4.,  5.])"
      ]
     },
     "execution_count": 3,
     "metadata": {},
     "output_type": "execute_result"
    }
   ],
   "source": [
    "from scipy.stats import norm\n",
    "import numpy as np\n",
    "\n",
    "data_start=-5\n",
    "data_end=5\n",
    "data_points=11\n",
    "data=np.linspace(data_start, data_end, data_points)\n",
    "mean=np.mean(data)\n",
    "std=np.std(data)\n",
    "probability_pdf = norm.pdf(3, loc=mean, scale=std)\n",
    "print(mean,\"\\n\",std,\"\\n\",probability_pdf)\n",
    "data"
   ]
  },
  {
   "cell_type": "raw",
   "id": "e40f151d-48dc-4209-a556-7f83cb7843e7",
   "metadata": {},
   "source": [
    "Q4. What are the properties of Binomial distribution? Give two examples of events where binomial\n",
    "distribution can be applied.\n",
    "ans:The properties of the binomial distribution are: There are two possible outcomes: true or false, success or failure,\n",
    "    yes or no. There is 'n' number of independent trials or a fixed number of n times repeated trials. The probability of\n",
    "    success or failure remains the same for each trial.\n",
    "    example:-1)Tossing a coin for n number of times\n",
    "             2)Whether person will pass or fail in exam"
   ]
  },
  {
   "cell_type": "raw",
   "id": "ad581824-0680-4b10-a8cb-caa55bf29a4b",
   "metadata": {},
   "source": [
    "Q5. Generate a random sample of size 1000 from a binomial distribution with probability of success 0.4\n",
    "and plot a histogram of the results using matplotlib.\n",
    "\n"
   ]
  },
  {
   "cell_type": "code",
   "execution_count": 26,
   "id": "43561307-9c53-4d8c-80d8-07154dedda75",
   "metadata": {},
   "outputs": [
    {
     "data": {
      "image/png": "[encoded data removed]",
      "text/plain": [
       "<Figure size 640x480 with 1 Axes>"
      ]
     },
     "metadata": {},
     "output_type": "display_data"
    }
   ],
   "source": [
    "from scipy.stats import binom\n",
    "import matplotlib.pyplot as plt\n",
    "n=10\n",
    "p=0.4\n",
    "r_values =  np.random.binomial(n, p, 1000)\n",
    "dist = [binom.pmf(r, n, p) for r in r_values ]\n",
    "plt.bar(r_values, dist)\n",
    "plt.show()"
   ]
  },
  {
   "cell_type": "raw",
   "id": "9f6ba898-6a52-4b73-b5f7-01ad62a902c9",
   "metadata": {},
   "source": [
    "Q6. Write a Python function to calculate the cumulative distribution function of a Poisson distribution\n",
    "with given mean at a given point.\n",
    "\n"
   ]
  },
  {
   "cell_type": "code",
   "execution_count": 30,
   "id": "77f09546-a91a-4bd0-b0dd-14d137a5cc66",
   "metadata": {},
   "outputs": [
    {
     "data": {
      "text/plain": [
       "0.17299160788207146"
      ]
     },
     "execution_count": 30,
     "metadata": {},
     "output_type": "execute_result"
    }
   ],
   "source": [
    "from scipy.stats import poisson\n",
    "poisson.cdf(k=4, mu=7)"
   ]
  },
  {
   "cell_type": "raw",
   "id": "cf4f823a-87f2-4659-9b8a-3b8d6cdd62ee",
   "metadata": {},
   "source": [
    "Q7. How Binomial distribution different from Poisson distribution?\n",
    "ans:Binomial distribution describes the distribution of binary data from a finite sample. Thus it gives the probability of\n",
    "    getting r events out of n trials. Poisson distribution describes the distribution of binary data from an infinite\n",
    "    sample. Thus it gives the probability of getting r events in a population."
   ]
  },
  {
   "cell_type": "raw",
   "id": "1ed70225-8205-4429-8b96-48c2c77820f9",
   "metadata": {},
   "source": [
    "Q8. Generate a random sample of size 1000 from a Poisson distribution with mean 5 and calculate the\n",
    "sample mean and variance.\n",
    "\n"
   ]
  },
  {
   "cell_type": "code",
   "execution_count": 35,
   "id": "795da9c6-eb8a-41e6-a564-98192bb0f28e",
   "metadata": {},
   "outputs": [
    {
     "name": "stdout",
     "output_type": "stream",
     "text": [
      "5.026 \n",
      " \n",
      " 4.731324\n"
     ]
    }
   ],
   "source": [
    "import numpy as np\n",
    "from scipy.stats import poisson\n",
    "import matplotlib.pyplot as plt\n",
    "valu=poisson.rvs(mu=5, size=1000)\n",
    "m=np.mean(valu)\n",
    "v=np.var(valu)\n",
    "print(m,\"\\n\",\"\\n\",v)"
   ]
  },
  {
   "cell_type": "raw",
   "id": "05081736-a9c3-4974-8da5-22923c8abcb0",
   "metadata": {},
   "source": [
    "Q9. How mean and variance are related in Binomial distribution and Poisson distribution?\n",
    "ans:The mean and the variance of the Poisson distribution are the same, which is equal to the average number of successes that\n",
    "    occur in the given interval of time.\n"
   ]
  },
  {
   "cell_type": "raw",
   "id": "e62f8e56-4f7b-4b91-b42c-c8a50ab0d8c9",
   "metadata": {},
   "source": [
    "Q10.In normal distribution with respect to mean position, where does the least frequent data appear?\n",
    "ans:least frequent data appear farther away from the mean ie. it may appear farther right to mean or it may appear farther left\n",
    "    to mean."
   ]
  }
 ],
 "metadata": {
  "kernelspec": {
   "display_name": "Python 3 (ipykernel)",
   "language": "python",
   "name": "python3"
  },
  "language_info": {
   "codemirror_mode": {
    "name": "ipython",
    "version": 3
   },
   "file_extension": ".py",
   "mimetype": "text/x-python",
   "name": "python",
   "nbconvert_exporter": "python",
   "pygments_lexer": "ipython3",
   "version": "3.10.6"
  }
 },
 "nbformat": 4,
 "nbformat_minor": 5
}
