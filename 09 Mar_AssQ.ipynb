{
 "cells": [
  {
   "cell_type": "raw",
   "id": "f67ba536-1cce-4ae4-af0b-be4b0e041492",
   "metadata": {},
   "source": [
    "Q1: What are the Probability Mass Function (PMF) and Probability Density Function (PDF)? Explain with\n",
    "an example.\n",
    "ans:1)Probability Mass Function(PMF):\n",
    "    A probability mass function (pmf) is a function over the sample space of a discrete random variable X which gives the\n",
    "    probability that X is equal to a certain value.\n",
    "    Let X be a discrete random variable on a sample space S. Then the probability mass function f(x) is defined as\n",
    "    f(x)=P[X=x].\n",
    "    example:\n",
    "    Given a probability mass function f(x) = bx^3 for x = 1, 2, 3. Find the value of b.\n",
    "    Solution: According to the properties of probability mass function, \n",
    "    b(1^3 + 2^3 + 3^3)= 1\n",
    "    b (36) = 1\n",
    "    b = 1 / 36\n",
    "    Answer: b = 1 / 36\n",
    "    \n",
    "    2)Probability Density Function (PDF)\n",
    "    In probability theory, a probability density function (PDF), or density of a continuous random variable, is a function\n",
    "    whose value at any given sample (or point) in the sample space (the set of possible values taken by the random\n",
    "    variable) can be interpreted as providing a relative likelihood that the value of the random variable would be equal to\n",
    "    that sample\n",
    "    example:\n",
    "    Suppose bacteria of a certain species typically live 4 to 6 hours. The probability that a bacterium lives exactly 5\n",
    "    hours is equal to zero. A lot of bacteria live for approximately 5 hours, but there is no chance that any given\n",
    "    bacterium dies at exactly 5.00... hours. However, the probability that the bacterium dies between 5 hours and 5.01\n",
    "    hours is quantifiable. Suppose the answer is 0.02 (i.e., 2%). Then, the probability that the bacterium dies between 5\n",
    "    hours and 5.001 hours should be about 0.002, since this time interval is one-tenth as long as the previous. The\n",
    "    probability that the bacterium dies between 5 hours and 5.0001 hours should be about 0.0002, and so on."
   ]
  },
  {
   "cell_type": "raw",
   "id": "e7275fe1-b33f-42b7-988f-7382c0a86d5a",
   "metadata": {},
   "source": [
    "Q2: What is Cumulative Density Function (CDF)? Explain with an example. Why CDF is used?\n",
    "ans:The cumulative distribution function is used to describe the probability distribution of random variables. It can be\n",
    "    used to describe the probability for a discrete, continuous or mixed variable. It is obtained by summing up the\n",
    "    probability density function and getting the cumulative probability for a random variable.\n",
    "    Example:\n",
    "    Suppose X takes only the discrete values 0 and 1, with equal probability. Then the CDF of X is given by\n",
    "    FX(x)={0  : x<0\n",
    "           1/2: 0<=x<=1\n",
    "           1  : x>1\n",
    "    "
   ]
  },
  {
   "cell_type": "raw",
   "id": "ecec307e-28a3-4497-bfe8-5f7a044299d9",
   "metadata": {},
   "source": [
    "Q3: What are some examples of situations where the normal distribution might be used as a model?\n",
    "    Explain how the parameters of the normal distribution relate to the shape of the distribution.\n",
    "ans:Situations where the normal distribution might be used as a model are Height, Rolling A Dice, Tossing A Coin, Blood\n",
    "    Pressure,etc.\n",
    "    Normal/Gaussian Distribution is a bell-shaped graph that encompasses two basic terms- mean and standard deviation. It\n",
    "    is a symmetrical arrangement of a data set in which most values cluster in the mean and the rest taper off\n",
    "    symmetrically towards either extreme. Numerous genetic and environmental factors influence the trait.\n"
   ]
  },
  {
   "cell_type": "raw",
   "id": "896d9d1a-d7b6-43cb-b856-2b0fec8bad1b",
   "metadata": {},
   "source": [
    "Q4: Explain the importance of Normal Distribution. Give a few real-life examples of Normal\n",
    "Distribution. \n",
    "ans:The normal distribution is widely used in understanding distributions of factors in the population. Because the normal\n",
    "    distribution approximates many natural phenomena so well, it has developed into a standard of reference for many\n",
    "    probability problems.\n",
    "    real life example of normal distribution are as follow Height, Rolling A Dice, Tossing A Coin, Blood\n",
    "    Pressure, Shoe Size, Birth Weight, etc."
   ]
  },
  {
   "cell_type": "raw",
   "id": "446771a1-c6d8-4696-acab-f09b2f304bbf",
   "metadata": {},
   "source": [
    "Q5: What is Bernaulli Distribution? Give an Example. What is the difference between Bernoulli\n",
    "Distribution and Binomial Distribution?\n",
    "ans:Bernoulli distribution is a discrete probability distribution. It describes the probability of achieving a 'success' or\n",
    "    'failure' from a Bernoulli trial. A Bernoulli trial is an event that has only two possible outcomes (success or\n",
    "    failure). For example, will a coin land on heads (success) or tails (failure)?\n",
    "    difference between bernoulli distribution and binomial distribution is as follows:\n",
    "    Bernoulli deals with the outcome of the single trial of the event, whereas Binomial deals with the outcome of the\n",
    "    multiple trials of the single event. Bernoulli is used when the outcome of an event is required for only one time,\n",
    "    whereas the Binomial is used when the outcome of an event is required multiple times."
   ]
  },
  {
   "cell_type": "raw",
   "id": "cee88522-0ba3-4371-9f10-03c980303a69",
   "metadata": {},
   "source": [
    "Q6. Consider a dataset with a mean of 50 and a standard deviation of 10. If we assume that the dataset\n",
    "is normally distributed, what is the probability that a randomly selected observation will be greater\n",
    "than 60? Use the appropriate formula and show your calculations.\n",
    "ans:To solve the above problem we will use z-score\n",
    "    xi=60\n",
    "    u=50\n",
    "    std=10\n",
    "    \n",
    "    Zscore=(xi-u)/std\n",
    "          =(60-50)/10\n",
    "          =10/10\n",
    "          =1\n",
    "    area under the curve(>60)=1-0.8413  (note:- got the value 0.8413 from the z table)\n",
    "                             =0.1587\n",
    "                             =15.87%\n",
    "    hence the probability that a randomly selected observation will be greater than 60 = 15.87%-"
   ]
  },
  {
   "cell_type": "raw",
   "id": "72ef175a-5529-429a-8579-a27ee7d4379b",
   "metadata": {},
   "source": [
    "Q7: Explain uniform Distribution with an example.\n",
    "ans:In statistics, uniform distribution refers to a type of probability distribution in which all outcomes are equally\n",
    "    likely.\n",
    "    Example: A standard 52 card deck has within it uniform distributions because the likelihood of drawing a heart, a club,\n",
    "    a diamond, or a spade is equally likely ie. 1/52."
   ]
  },
  {
   "cell_type": "raw",
   "id": "cb8444ae-cc5b-41a6-846b-521e0748a11e",
   "metadata": {},
   "source": [
    "Q8: What is the z score? State the importance of the z score.\n",
    "ans:A z-score measures the distance between a data point and the mean using standard deviations. Z-scores can be positive\n",
    "    or negative. The sign tells you whether the observation is above or below the mean.\n",
    "    The z-score is particularly important because it tells you not only something about the value itself, but also where\n",
    "    the value lies in the distribution."
   ]
  },
  {
   "cell_type": "raw",
   "id": "28fa265c-161d-4e42-bd1c-5139f217f799",
   "metadata": {},
   "source": [
    "Q9: What is Central Limit Theorem? State the significance of the Central Limit Theorem.\n",
    "ans:The central limit theorem says that the sampling distribution of the mean will always be normally distributed, as long\n",
    "    as the sample size is large enough. Regardless of whether the population has a normal, Poisson, binomial, or any other\n",
    "    distribution, the sampling distribution of the mean will be normal.\n",
    "    The Central Limit Theorem is important for statistics because it allows us to safely assume that the sampling\n",
    "    distribution of the mean will be normal in most cases. This means that we can take advantage of statistical techniques\n",
    "    that assume a normal distribution, as we will see in the next section."
   ]
  },
  {
   "cell_type": "raw",
   "id": "4ad0a241-386c-4c16-9c76-7b6cf6d287d3",
   "metadata": {},
   "source": [
    "Q10: State the assumptions of the Central Limit Theorem.\n",
    "ans:-The sample should be drawn randomly following the condition of randomization.\n",
    "    -The samples drawn should be independent of each other. They should not influence the other samples.\n",
    "    -When the sampling is done without replacement, the sample size shouldn’t exceed 10% of the total population.\n",
    "    -The sample size should be sufficiently large."
   ]
  },
  {
   "cell_type": "code",
   "execution_count": null,
   "id": "d58313e1-ed0e-48c1-b153-a6faac1bade7",
   "metadata": {},
   "outputs": [],
   "source": []
  }
 ],
 "metadata": {
  "kernelspec": {
   "display_name": "Python 3 (ipykernel)",
   "language": "python",
   "name": "python3"
  },
  "language_info": {
   "codemirror_mode": {
    "name": "ipython",
    "version": 3
   },
   "file_extension": ".py",
   "mimetype": "text/x-python",
   "name": "python",
   "nbconvert_exporter": "python",
   "pygments_lexer": "ipython3",
   "version": "3.10.6"
  }
 },
 "nbformat": 4,
 "nbformat_minor": 5
}
