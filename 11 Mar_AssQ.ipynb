{
 "cells": [
  {
   "cell_type": "raw",
   "id": "4b59c729-44e9-4839-ae15-aec08b3f20be",
   "metadata": {},
   "source": [
    "Q1: What is the difference between a t-test and a z-test? Provide an example scenario where you would\n",
    "use each type of test.\n",
    "ans:Z-Test & T-Tests are Parametric Tests, where the Null Hypothesis is less than, greater than or equal to some value.\n",
    "    A z-test is used if the population variance is known, or if the sample size is larger than 30, for an unknown\n",
    "    population variance. If the sample size is less than 30 and the population variance is unknown, we must use a t-test.\n",
    "    A z-test is used to test a Null Hypothesis if the population variance is known, or if the sample size is larger than\n",
    "    30, for an unknown population variance. A t-test is used when the sample size is less than 30 and the population\n",
    "    variance is unknown.\n",
    "    \n",
    "    example for T-test\n",
    "    A researcher wants to compare the mean weight of two different groups of mice. One group has a sample size of 25 and\n",
    "    the other group has a sample size of 50. When comparing means of two independent groups, a t-test should be used if the\n",
    "    sample sizes are small or the population variance is unknown. In this case, the sample sizes are not very large, so a\n",
    "    t-test would be appropriate.\n",
    "    \n",
    "    example for Z-test\n",
    "    A researcher wants to compare the mean height of two different groups of plants. One group has a sample size of 15 and\n",
    "    the other group has a sample size of 20. The population variance is known to be 9. When the population variance is\n",
    "    known and the sample sizes are sufficiently large, a z-test can be used to compare means of two independent groups. In\n",
    "    this case, the population variance is known and the sample sizes are not very small, so a z-test would be appropriate."
   ]
  },
  {
   "cell_type": "raw",
   "id": "89ab9297-1fba-433f-bb28-965571c57482",
   "metadata": {},
   "source": [
    "Q2: Differentiate between one-tailed and two-tailed tests.\n",
    "ans:The main difference between one-tailed and two-tailed tests is that one-tailed tests will only have one critical region\n",
    "    whereas two-tailed tests will have two critical regions."
   ]
  },
  {
   "cell_type": "raw",
   "id": "9d26fa94-1ba8-4c90-ae98-f5978d505f1d",
   "metadata": {},
   "source": [
    "Q3: Explain the concept of Type 1 and Type 2 errors in hypothesis testing. Provide an example scenario for\n",
    "each type of error.\n",
    "ans:A type I error occurs if an investigator rejects a null hypothesis that is actually true in the population.\n",
    "    A type II error occurs if the investigator fails to reject a null hypothesis that is actually false in the population.\n",
    "    \n",
    "    example: A man goes to trial and is being tried for murder.\n",
    "    Null Hypothesis: Man is innocent until proven guilty.\n",
    "    Alternative Hypothesis: Man is guilty.\n",
    "    Type -1 Error (False Positive): Found guilty, but you are innocent.\n",
    "    True Positive: Found guilty and being guilty.\n",
    "    True Negative: Found Innocent and being innocent\n",
    "    Type -2 Error (False Negative): Found innocent, but you are guilty."
   ]
  },
  {
   "cell_type": "raw",
   "id": "b1fc2217-da6a-45e0-9f75-f7846d5132a1",
   "metadata": {},
   "source": [
    "Q4: Explain Bayes's theorem with an example.\n",
    "ans:Bayes's Theorem states that the conditional probability of an event, based on the occurrence of another event, is equal\n",
    "    to the likelihood of the second event given the first event multiplied by the probability of the first event. \n",
    "    \n",
    "    example:if we have to calculate the probability of taking a blue ball from the second bag out of three different bags \n",
    "    of balls, where each bag contains three different colour balls ie. red, blue, black."
   ]
  },
  {
   "cell_type": "raw",
   "id": "b42e994a-82fc-4463-82ce-1e4455643cf4",
   "metadata": {},
   "source": [
    "Q5: What is a confidence interval? How to calculate the confidence interval, explain with an example.\n",
    "ans:A confidence interval, in statistics, refers to the probability that a population parameter will fall between a set of\n",
    "    values for a certain proportion of times.\n",
    "    \n",
    "    confidence interval can be calculated using this formula\n",
    "    Confidence interval (CI) = ‾X ± Z(S ÷ √n)\n",
    "                             = 4.5 ± 0.97(2.5 ÷ √25)\n",
    "                             = 4.5 ± 0.97(2.5 ÷ 5)\n",
    "                             = 4.5 ± 0.485\n",
    "                             = 4.985, 4.015"
   ]
  },
  {
   "cell_type": "raw",
   "id": "7466cbbb-039d-4bd3-934c-1bed8f087c64",
   "metadata": {},
   "source": [
    "Q6. Use Bayes' Theorem to calculate the probability of an event occurring given prior knowledge of the\n",
    "event's probability and new evidence. Provide a sample problem and solution.\n",
    "ans:P(A∣B)= P(A⋂B)/P(B)\n",
    "          = P(A)⋅P(B∣A)/P(B)\n",
    "where:\n",
    "P(A)= The probability of A occurring\n",
    "P(B)= The probability of B occurring\n",
    "P(A∣B)=The probability of A given B\n",
    "P(B∣A)= The probability of B given A\n",
    "P(A⋂B))= The probability of both A and B occurring\n",
    "\n",
    "example: Amy has two bags. Bag I has 7 red and 2 blue balls and bag II has 5 red and 9 blue balls. Amy draws a ball at random\n",
    "         and it turns out to be red. Determine the probability that the ball was from the bag I using the Bayes theorem.\n",
    "Solution: Let X and Y be the events that the ball is from the bag I and bag II, respectively. Assume A to be the event of\n",
    "          drawing a red ball. We know that the probability of choosing a bag for drawing a ball is 1/2, that is,\n",
    "          P(X)=P(Y)=1/2\n",
    "          Since there are 7 red balls out of a total of 11 balls in the bag I,\n",
    "          therefore, P(drawing a red ball from the bag I)=P(A|X) = 7/11\n",
    "          Similarly, P(drawing a red ball from bag II) = P(A|Y) = 5/14\n",
    "          We need to determine the value of P(the ball drawn is from the bag I given that it is a red ball), that is, P(X|A).\n",
    "          To determine this we will use Bayes Theorem. Using Bayes theorem,\n",
    "          we have the following:P(X|A)=(P(A|X)*P(X))/((P(A|X)*P(X))+(P(A|Y)*P(Y)))= [((7/11)(1/2))/(7/11)(1/2)+(5/14)(1/2)]\n",
    "                                                                                  = 0.64\n",
    "\n",
    "Answer: Hence, the probability that the ball is drawn is from bag I is 0.64"
   ]
  },
  {
   "cell_type": "raw",
   "id": "a197ed04-a6a0-40a3-a24f-18d7681cbe0b",
   "metadata": {},
   "source": [
    "Q7. Calculate the 95% confidence interval for a sample of data with a mean of 50 and a standard deviation\n",
    "of 5. Interpret the results."
   ]
  },
  {
   "cell_type": "code",
   "execution_count": 11,
   "id": "b05b8a1f-d1a1-4069-9fb3-c79f276ada44",
   "metadata": {},
   "outputs": [
    {
     "name": "stdin",
     "output_type": "stream",
     "text": [
      "enter the sample mean 50\n",
      "enter the sample standard deviation 5\n",
      "enter the size of sample 30\n"
     ]
    },
    {
     "name": "stdout",
     "output_type": "stream",
     "text": [
      "population mean of this given sample data with confidence interval of 95% lies in this range (48.21077297881646, 51.78922702118354)\n"
     ]
    }
   ],
   "source": [
    "#assuming sample size equal to 30\n",
    "import math\n",
    "x=float(input(\"enter the sample mean\"))\n",
    "dev=float(input(\"enter the sample standard deviation\"))\n",
    "n=float(input(\"enter the size of sample\"))\n",
    "def mue(a,b,c):\n",
    "    moe=((1.96*b)/(math.sqrt(c)))\n",
    "    mue_pos,mue_neg=a+moe,a-moe\n",
    "    return mue_neg,mue_pos\n",
    "mean=mue(x,dev,n)\n",
    "print(\"population mean of this given sample data with confidence interval of 95% lies in this range\",mean)"
   ]
  },
  {
   "cell_type": "raw",
   "id": "3e87b151-80d3-41d1-999a-2024f0f46f23",
   "metadata": {},
   "source": [
    "Q8. What is the margin of error in a confidence interval? How does sample size affect the margin of error?\n",
    "Provide an example of a scenario where a larger sample size would result in a smaller margin of error.\n",
    "ans:A margin of error tells you how many percentage points your results will differ from the real population value.\n",
    "    It is intuitive that a greater sample size will be a closer representative of the population than a smaller sample\n",
    "    size. Hence, the larger the sample size, the smaller the sample standard error and therefore the smaller the margin of\n",
    "    error.\n",
    "    \n",
    "    example:\n",
    "    Suppose that the Gallup Organization’s latest poll sampled 1,000 people from the United States, and the results show\n",
    "    that 520 people (52%) think the president is doing a good job, compared to 48% who don’t think so. First, assume you\n",
    "    want a 95% level of confidence.\n",
    "    above problem is solved using the code below.\n",
    "    in the code given below we can see that when the sample size is 500 we get the result concluding that 52%  plus or \n",
    "    minus 4.3% people say that president is doing good job, wheras in sencond case with sample size 2000 we get the result \n",
    "    concluding that 52% plus or minus 2.1% people say that president is doing good job. \n",
    "    we can see from the example given above that as the sample size increases the margin of error decreases respectively."
   ]
  },
  {
   "cell_type": "code",
   "execution_count": 9,
   "id": "abce7f13-aaf2-43f6-8811-34cdd795de71",
   "metadata": {},
   "outputs": [
    {
     "data": {
      "text/plain": [
       "(0.04289814541445818, 0.02144907270722909)"
      ]
     },
     "execution_count": 9,
     "metadata": {},
     "output_type": "execute_result"
    }
   ],
   "source": [
    "import math\n",
    "ci1=1.92*math.sqrt((0.52*0.48)/500)\n",
    "ci2=1.92*math.sqrt((0.52*0.48)/2000)\n",
    "ci1,ci2"
   ]
  },
  {
   "cell_type": "raw",
   "id": "22c05845-264e-451f-8e25-b5ae6fd513d6",
   "metadata": {},
   "source": [
    "Q9. Calculate the z-score for a data point with a value of 75, a population mean of 70, and a population\n",
    "standard deviation of 5. Interpret the results."
   ]
  },
  {
   "cell_type": "code",
   "execution_count": 13,
   "id": "87fedb31-17d1-46a1-ba5a-675150b284c6",
   "metadata": {},
   "outputs": [
    {
     "name": "stdout",
     "output_type": "stream",
     "text": [
      "z_score= 1.0\n"
     ]
    }
   ],
   "source": [
    "import math\n",
    "z_score=(75-70)/5\n",
    "print(\"z_score=\",z_score)"
   ]
  },
  {
   "cell_type": "raw",
   "id": "bec24a3f-e2ed-4946-95ab-c4fa99d7d340",
   "metadata": {},
   "source": [
    "Q10. In a study of the effectiveness of a new weight loss drug, a sample of 50 participants lost an average\n",
    "of 6 pounds with a standard deviation of 2.5 pounds. Conduct a hypothesis test to determine if the drug is\n",
    "significantly effective at a 95% confidence level using a t-test.\n"
   ]
  },
  {
   "cell_type": "code",
   "execution_count": 19,
   "id": "f2de48da-6b66-41b9-a340-c98ce883ea3d",
   "metadata": {},
   "outputs": [
    {
     "name": "stdout",
     "output_type": "stream",
     "text": [
      "H0:The new weight loss drug is not significantly effective. μ = μ0, where μ0 is the population mean weight loss.\n",
      "H1:The new weight loss drug is significantly effective. μ < μ0.\n",
      "degree of freedom: 49\n",
      "range of Confidence interval: -1.6765508919142635\n",
      "p value: 16.970562748477143\n",
      "we reject the null hypothesis\n",
      "conclusion:The new weight loss drug is significantly effective.\n"
     ]
    }
   ],
   "source": [
    "import math\n",
    "import scipy.stats as stats\n",
    "#assuming no weight is lost u=0\n",
    "u=0\n",
    "n=50\n",
    "x=6\n",
    "sd=2.5\n",
    "#null and alternate hypothesis\n",
    "print(\"H0:The new weight loss drug is not significantly effective. μ = μ0, where μ0 is the population mean weight loss.\")\n",
    "print(\"H1:The new weight loss drug is significantly effective. μ < μ0.\")\n",
    "#degree of freedom\n",
    "df=n-1\n",
    "print(\"degree of freedom:\",df)\n",
    "#confidence interval\n",
    "cip=stats.t.ppf(q=.05,df=df)\n",
    "print(\"range of Confidence interval:\",cip)\n",
    "#finding p value of the 2 independent samples\n",
    "t=(x-u)/(sd/math.sqrt(n))\n",
    "print(\"p value:\",t)\n",
    "if p>cip:\n",
    "    print(\"we reject the null hypothesis\\nconclusion:The new weight loss drug is significantly effective.\")\n",
    "else:\n",
    "    print(\"we fail to reject the null hypothesis\\nconclusion:The new weight loss drug is not significantly effective. μ = μ0\")"
   ]
  },
  {
   "cell_type": "raw",
   "id": "d9d5a6ca-b414-48e1-92a8-3cd8a56bd0fb",
   "metadata": {},
   "source": [
    "Q11. In a survey of 500 people, 65% reported being satisfied with their current job. Calculate the 95%\n",
    "confidence interval for the true proportion of people who are satisfied with their job.\n",
    "\n"
   ]
  },
  {
   "cell_type": "code",
   "execution_count": 9,
   "id": "3b749dcb-4f02-429c-ae3e-02e7a9561e12",
   "metadata": {},
   "outputs": [
    {
     "name": "stdout",
     "output_type": "stream",
     "text": [
      "people who are satisfied with their job from the given sample data\n",
      "with confidence interval of 95% lies in the range 0.690954999694787 0.609045000305213\n",
      "this conclude that the true propotion of people who are satisfied with their job\n",
      "lies in the range of 69.09549996947871 % 60.904500030521305 %\n"
     ]
    }
   ],
   "source": [
    "import math\n",
    "ci1=1.92*math.sqrt((0.65*0.35)/500)\n",
    "u=0.65+ci1\n",
    "um=0.65-ci1\n",
    "print(\"people who are satisfied with their job from the given sample data\\nwith confidence interval of 95% lies in the range\",u,um)\n",
    "print(\"this conclude that the true propotion of people who are satisfied with their job\\nlies in the range of\",u*100,\"%\",um*100,\"%\")"
   ]
  },
  {
   "cell_type": "raw",
   "id": "055f6d2e-8f72-42fd-b7ae-40bcfc41eaab",
   "metadata": {},
   "source": [
    "Q12. A researcher is testing the effectiveness of two different teaching methods on student performance.\n",
    "Sample A has a mean score of 85 with a standard deviation of 6, while sample B has a mean score of 82\n",
    "with a standard deviation of 5. Conduct a hypothesis test to determine if the two teaching methods have a\n",
    "significant difference in student performance using a t-test with a significance level of 0.01.\n",
    "\n"
   ]
  },
  {
   "cell_type": "code",
   "execution_count": 1,
   "id": "c1bb9a5f-c546-4e24-b74b-14ea342b92c1",
   "metadata": {},
   "outputs": [
    {
     "name": "stdout",
     "output_type": "stream",
     "text": [
      "sample mean of 1st group: 85 \n",
      "sample mean of 2nd gorup: 82\n",
      "sample standard deviation of 1st group: 6 \n",
      "sample standard deviation of 2nd gorup: 5\n",
      "sample size of 1st group: 20 \n",
      "sample size of 2nd gorup: 20\n",
      "Hypothesis\n",
      "H0:teaching methods have no significant difference in student performance:u1-u2=0\n",
      "H1:teaching methods have a significant difference in student performance:u1-u2!=0\n",
      "range of confidence interval is: -1.7356058121427287 , 7.735605812142729\n",
      "t value: 1.7177950029416047\n",
      "we failed to reject the null hypothesis\n",
      "conclusion: teaching methods have no significant difference in student performance\n"
     ]
    }
   ],
   "source": [
    "import math\n",
    "#sample mean\n",
    "x1,x2=85,82\n",
    "print(\"sample mean of 1st group:\",x1,\"\\nsample mean of 2nd gorup:\",x2)\n",
    "#standard deviation\n",
    "sd1,sd2=6,5\n",
    "print(\"sample standard deviation of 1st group:\",sd1,\"\\nsample standard deviation of 2nd gorup:\",sd2)\n",
    "#assuming sample size equal to 20\n",
    "n1,n2=20,20\n",
    "print(\"sample size of 1st group:\",n1,\"\\nsample size of 2nd gorup:\",n2)\n",
    "print(\"Hypothesis\")\n",
    "print(\"H0:teaching methods have no significant difference in student performance:u1-u2=0\")\n",
    "print(\"H1:teaching methods have a significant difference in student performance:u1-u2!=0\")\n",
    "#since the significans value is 0.01 The 99% confidence level means that α=1−0.99=0.01 so that tα=t0.01.\n",
    "#hence the \"Critical Values of\" we read directly that t0.01 for df=38 is 2.7116. Thus confidence interval is\n",
    "cip=(x1-x2)+2.7116*math.sqrt(((sd1**2)/n1)+((sd2**2)/n2))\n",
    "cim=(x1-x2)-2.7116*math.sqrt(((sd1**2)/n1)+((sd2**2)/n2))\n",
    "print(\"range of confidence interval is:\",cim,\",\",cip)\n",
    "#(x1-x2)-0 since we assume that u1-u2=0\n",
    "t=((x1-x2)-0)/math.sqrt(((sd1**2)/n1)+((sd2**2)/n2))\n",
    "print(\"t value:\",t)\n",
    "if t>cip or t<cim:\n",
    "    print(\"we reject the null hypothesis\\nconclusion teaching methods have a significant difference in student performance\")\n",
    "else:\n",
    "    print(\"we failed to reject the null hypothesis\\nconclusion: teaching methods have no significant difference in student performance\")"
   ]
  },
  {
   "cell_type": "raw",
   "id": "7da1d82f-f271-4bd1-9c59-59fc0ed25f2d",
   "metadata": {},
   "source": [
    "Q13. A population has a mean of 60 and a standard deviation of 8. A sample of 50 observations has a mean\n",
    "of 65. Calculate the 90% confidence interval for the true population mean.\n",
    "\n"
   ]
  },
  {
   "cell_type": "code",
   "execution_count": 7,
   "id": "fb432aa1-f523-4fb9-ae48-1d12333c7415",
   "metadata": {},
   "outputs": [
    {
     "name": "stdout",
     "output_type": "stream",
     "text": [
      "population mean of this given sample data with confidence interval of 90% lies in this range (64.736, 65.264)\n"
     ]
    }
   ],
   "source": [
    "import math\n",
    "x=65\n",
    "dev=8/math.sqrt(n)\n",
    "n=50\n",
    "def mue(a,b,c):\n",
    "    moe=((1.65*b)/(math.sqrt(c)))\n",
    "    mue_pos,mue_neg=a+moe,a-moe\n",
    "    return mue_neg,mue_pos\n",
    "mean=mue(x,dev,n)\n",
    "print(\"population mean of this given sample data with confidence interval of 90% lies in this range\",mean)"
   ]
  },
  {
   "cell_type": "raw",
   "id": "feec0d1a-88f8-4376-a0d3-de9c1bde26f8",
   "metadata": {},
   "source": [
    "Q14. In a study of the effects of caffeine on reaction time, a sample of 30 participants had an average\n",
    "reaction time of 0.25 seconds with a standard deviation of 0.05 seconds. Conduct a hypothesis test to\n",
    "determine if the caffeine has a significant effect on reaction time at a 90% confidence level using a t-test."
   ]
  },
  {
   "cell_type": "code",
   "execution_count": 3,
   "id": "e6363624-bc60-40ef-8e88-4b3cc719b2c7",
   "metadata": {},
   "outputs": [
    {
     "name": "stdout",
     "output_type": "stream",
     "text": [
      "H0:there is no effect of caffeine on reaction time. ie. μ=μ0, where μ0 is the average reaction time of population\n",
      "H1:there is effect of caffeine on reaction time. ie. μ>μ0\n",
      "degree of freedom: 29\n",
      "range of Confidence interval: -1.6991270265334977\n",
      "t value: 27.386127875258307\n",
      "we reject the null hypothesis\n",
      "conclusion:there is effect of caffeine on reaction time.\n"
     ]
    }
   ],
   "source": [
    "import math\n",
    "import scipy.stats as stats\n",
    "#assuming no effects of caffeine u=0\n",
    "u=0\n",
    "n=30\n",
    "x=0.25\n",
    "sd=0.05\n",
    "#null and alternate hypothesis\n",
    "print(\"H0:there is no effect of caffeine on reaction time. ie. μ=μ0, where μ0 is the average reaction time of population\")\n",
    "print(\"H1:there is effect of caffeine on reaction time. ie. μ>μ0\")\n",
    "#degree of freedom\n",
    "df=n-1\n",
    "print(\"degree of freedom:\",df)\n",
    "#confidence interval\n",
    "cip=stats.t.ppf(q=.05,df=df)\n",
    "print(\"range of Confidence interval:\",cip)\n",
    "#finding p value of the 2 independent samples\n",
    "t=(x-u)/(sd/math.sqrt(n))\n",
    "print(\"t value:\",t)\n",
    "if t>cip:\n",
    "    print(\"we reject the null hypothesis\\nconclusion:there is effect of caffeine on reaction time.\")\n",
    "else:\n",
    "    print(\"we fail to reject the null hypothesis\\nconclusion:there is no effect of caffeine on reaction time. μ = μ0\")"
   ]
  }
 ],
 "metadata": {
  "kernelspec": {
   "display_name": "Python 3 (ipykernel)",
   "language": "python",
   "name": "python3"
  },
  "language_info": {
   "codemirror_mode": {
    "name": "ipython",
    "version": 3
   },
   "file_extension": ".py",
   "mimetype": "text/x-python",
   "name": "python",
   "nbconvert_exporter": "python",
   "pygments_lexer": "ipython3",
   "version": "3.10.6"
  }
 },
 "nbformat": 4,
 "nbformat_minor": 5
}
