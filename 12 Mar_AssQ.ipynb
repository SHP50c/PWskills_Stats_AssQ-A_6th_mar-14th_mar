{
 "cells": [
  {
   "cell_type": "raw",
   "id": "ebfdff20-356a-439a-9ed7-161abbce1f3e",
   "metadata": {},
   "source": [
    "Q1. Calculate the 95% confidence interval for a sample of data with a mean of 50 and a standard deviation\n",
    "of 5 using Python. Interpret the results."
   ]
  },
  {
   "cell_type": "code",
   "execution_count": 1,
   "id": "64643a61-063c-491a-a690-56549d9a9edf",
   "metadata": {},
   "outputs": [
    {
     "name": "stdin",
     "output_type": "stream",
     "text": [
      "enter the sample mean 50\n",
      "enter the sample standard deviation 5\n",
      "enter the size of sample 30\n"
     ]
    },
    {
     "name": "stdout",
     "output_type": "stream",
     "text": [
      "population mean of this given sample data with confidence interval of 95% lies in this range (48.21077297881646, 51.78922702118354)\n"
     ]
    }
   ],
   "source": [
    "#assuming sample size equal to 30\n",
    "import math\n",
    "x=float(input(\"enter the sample mean\"))\n",
    "dev=float(input(\"enter the sample standard deviation\"))\n",
    "n=float(input(\"enter the size of sample\"))\n",
    "def mue(a,b,c):\n",
    "    moe=((1.96*b)/(math.sqrt(c)))\n",
    "    moe_pos,moe_neg=a+moe,a-moe\n",
    "    return moe_neg,moe_pos\n",
    "mean=mue(x,dev,n)\n",
    "print(\"population mean of this given sample data with confidence interval of 95% lies in this range\",mean)"
   ]
  },
  {
   "cell_type": "raw",
   "id": "c082947d-1da4-4fe8-9f84-4fd21dcf363f",
   "metadata": {},
   "source": [
    "Q2. Conduct a chi-square goodness of fit test to determine if the distribution of colors of M&Ms in a bag\n",
    "matches the expected distribution of 20% blue, 20% orange, 20% green, 10% yellow, 10% red, and 20%\n",
    "brown. Use Python to perform the test with a significance level of 0.05."
   ]
  },
  {
   "cell_type": "code",
   "execution_count": 87,
   "id": "bec7e456-6ca8-48c9-83ba-4f709511f0ed",
   "metadata": {},
   "outputs": [
    {
     "name": "stdout",
     "output_type": "stream",
     "text": [
      "H0:There is no difference of colors between the observed and expected data of M&Ms in a bag\n",
      "H1:There is difference of colors between the observed and expected data of M&Ms in a bag\n",
      "Expected data= [60.0, 60.0, 60.0, 30.0, 30.0, 60.0]\n",
      "Observed data= [56, 58, 46, 44, 41, 55]\n",
      "Degree of freedom= 5\n",
      "chisquare_test_statistic= 14.583333333333332 \n",
      "p_value= 0.012299255175835388 \n",
      "significance value= 0.05 \n",
      "critical value= 11.070497693516351\n",
      "Reject the null hypothesis since chisquare_test_statistic is greater than critical value\n",
      "Conclusion:There is difference of colors between the observed and expected data of M&Ms in a bag\n"
     ]
    }
   ],
   "source": [
    "import scipy.stats as stat\n",
    "import numpy as np\n",
    "#null and alternate hypothesis\n",
    "print(\"H0:There is no difference of colors between the observed and expected data of M&Ms in a bag\")\n",
    "print(\"H1:There is difference of colors between the observed and expected data of M&Ms in a bag\")\n",
    "#assuming sample size to be 300\n",
    "expected_data=[(300*.2),(300*.2),(300*.2),(300*.1),(300*.1),(300*.2)]\n",
    "print(\"Expected data=\",expected_data)\n",
    "#generating random observed data\n",
    "from random import randint\n",
    "def randomList(m, n):\n",
    "    arr=[0]*m;\n",
    "    for i in range(n):\n",
    "        arr[randint(295, n) % m]+=1;\n",
    "    return arr\n",
    "m,n=6,300;\n",
    "observed_data=randomList(m, n);\n",
    "print(\"Observed data=\",observed_data)\n",
    "#degree of freedom\n",
    "dof=len(expected_data)-1\n",
    "print(\"Degree of freedom=\",dof)\n",
    "#chisquare test\n",
    "chisquare_test_statistic,p_value=stat.chisquare(observed_data,expected_data)\n",
    "significane_value=0.05\n",
    "critical_value=stat.chi2.ppf(1-significane_value,dof)\n",
    "print(\"chisquare_test_statistic=\",chisquare_test_statistic,\"\\np_value=\",p_value,\"\\nsignificance value=\",significane_value,\"\\ncritical value=\",critical_value)\n",
    "if chisquare_test_statistic > critical_value:\n",
    "    print(\"Reject the null hypothesis since chisquare_test_statistic is greater than critical value\\nConclusion:There is difference of colors between the observed and expected data of M&Ms in a bag\")\n",
    "else:\n",
    "    print(\"Fail to reject the null hypothesis since chisquare_test_statistic is less than critical value\\nConclusion:There is no difference of colors between the observed and expected data of M&Ms in a bag\")"
   ]
  },
  {
   "cell_type": "raw",
   "id": "480dad37-6870-4eca-8ade-42be0d7f0c5c",
   "metadata": {},
   "source": [
    "Q3. Use Python to calculate the chi-square statistic and p-value for a contingency table with the following\n",
    "data:\n",
    "          Group A   Group B\n",
    "Outcome 1   20        15\n",
    "Outcome 2   10        25\n",
    "Outcome 3   15        20\n",
    "\n",
    "Interpret the results of the test."
   ]
  },
  {
   "cell_type": "code",
   "execution_count": 27,
   "id": "a36e04db-3cd4-40db-9048-f2dbd4daa11d",
   "metadata": {},
   "outputs": [
    {
     "name": "stdout",
     "output_type": "stream",
     "text": [
      "Chi-square statistic: 5.833333333333334\n",
      "P-value: 0.05411376622282158\n",
      "Degrees of freedom: 2\n",
      "Expected frequencies:\n",
      " [[15. 20.]\n",
      " [15. 20.]\n",
      " [15. 20.]]\n"
     ]
    }
   ],
   "source": [
    "import numpy as np\n",
    "from scipy.stats import chi2_contingency\n",
    "\n",
    "# Define the contingency table\n",
    "observed = np.array([[20, 15], [10, 25], [15, 20]])\n",
    "\n",
    "# Calculate the chi-square statistic, p-value, degrees of freedom, and expected frequencies\n",
    "chi2, p, dof, expected = chi2_contingency(observed)\n",
    "\n",
    "# Print the results\n",
    "print(f\"Chi-square statistic: {chi2}\")\n",
    "print(f\"P-value: {p}\")\n",
    "print(f\"Degrees of freedom: {dof}\")\n",
    "print(\"Expected frequencies:\\n\", expected)"
   ]
  },
  {
   "cell_type": "raw",
   "id": "10c9ff16-51a0-4ab3-b33b-db3a955ac707",
   "metadata": {},
   "source": [
    "Q4. A study of the prevalence of smoking in a population of 500 individuals found that 60 individuals\n",
    "smoked. Use Python to calculate the 95% confidence interval for the true proportion of individuals in the\n",
    "population who smoke.\n",
    "ans:To calculate the 95% confidence interval for the true proportion of individuals in the population who smoke, we can use the\n",
    "    formula:\n",
    "\n",
    "    CI = p ± z(sqrt(p(1-p)/n))\n",
    "\n",
    "    Where:\n",
    "    p is the sample proportion (number of individuals who smoke divided by the total sample size) z is the critical value from\n",
    "    the standard normal distribution for the desired confidence level (95% confidence level corresponds to z=1.96) n is the\n",
    "    sample size Using Python, we can calculate this as follows:"
   ]
  },
  {
   "cell_type": "code",
   "execution_count": 7,
   "id": "d89600d5-6c00-477a-8719-537719d43a39",
   "metadata": {},
   "outputs": [
    {
     "name": "stdin",
     "output_type": "stream",
     "text": [
      "enter the sample size 500\n",
      "enter the number of people who smoke 60\n"
     ]
    },
    {
     "name": "stdout",
     "output_type": "stream",
     "text": [
      "95% confidence interval for the true proportion of individuals in the population who smoke.lies in range: (0.09151586546865079, 0.1484841345313492)\n"
     ]
    }
   ],
   "source": [
    "import math\n",
    "#sample size\n",
    "n=float(input(\"enter the sample size\"))\n",
    "#individual who smoke\n",
    "x=float(input(\"enter the number of people who smoke\"))\n",
    "def mue(a,b):\n",
    "    #sample Propotion\n",
    "    p=b/a\n",
    "    #calculate standard error for 95% confidence interval (1.96 is the critical value for 95%ci)\n",
    "    moe=(math.sqrt((p*(1-p))/n))*1.96\n",
    "    moe_pos,moe_neg=p+moe,p-moe\n",
    "    return moe_neg,moe_pos\n",
    "mean=mue(n,x)\n",
    "print(\"95% confidence interval for the true proportion of individuals in the population who smoke.lies in range:\",mean)"
   ]
  },
  {
   "cell_type": "raw",
   "id": "98f32d36-47df-482a-b5d1-656c16027af3",
   "metadata": {},
   "source": [
    "Q5. Calculate the 90% confidence interval for a sample of data with a mean of 75 and a standard deviation\n",
    "of 12 using Python. Interpret the results."
   ]
  },
  {
   "cell_type": "code",
   "execution_count": 9,
   "id": "4681db9a-e55d-4015-92d6-c225d8b5ec62",
   "metadata": {},
   "outputs": [
    {
     "name": "stdin",
     "output_type": "stream",
     "text": [
      "enter the sample mean 75\n",
      "enter the sample standard deviation 12\n",
      "enter the size of sample 30\n"
     ]
    },
    {
     "name": "stdout",
     "output_type": "stream",
     "text": [
      "population mean of this given sample data with confidence interval of 90% lies in this range (71.40694002276611, 78.59305997723389)\n"
     ]
    }
   ],
   "source": [
    "#assuming sample size equal to 30\n",
    "import math\n",
    "x=float(input(\"enter the sample mean\"))\n",
    "dev=float(input(\"enter the sample standard deviation\"))\n",
    "n=float(input(\"enter the size of sample\"))\n",
    "def mue(a,b,c):\n",
    "    moe=((1.64*b)/(math.sqrt(c)))\n",
    "    moe_pos,moe_neg=a+moe,a-moe\n",
    "    return moe_neg,moe_pos\n",
    "mean=mue(x,dev,n)\n",
    "print(\"population mean of this given sample data with confidence interval of 90% lies in this range\",mean)"
   ]
  },
  {
   "cell_type": "raw",
   "id": "5fd66b65-acff-4c1a-9b60-bdcc83ad537b",
   "metadata": {},
   "source": [
    "Q6. Use Python to plot the chi-square distribution with 10 degrees of freedom. Label the axes and shade the\n",
    "area corresponding to a chi-square statistic of 15.\n",
    "\n"
   ]
  },
  {
   "cell_type": "code",
   "execution_count": 16,
   "id": "bbe16f58-ac06-4797-b4ff-57bc0e8db2ee",
   "metadata": {},
   "outputs": [
    {
     "data": {
      "image/png": "[encoded data removed]",
      "text/plain": [
       "<Figure size 800x400 with 1 Axes>"
      ]
     },
     "metadata": {},
     "output_type": "display_data"
    }
   ],
   "source": [
    "import numpy as np\n",
    "import matplotlib.pyplot as plt\n",
    "from scipy.stats import chi2\n",
    "# degrees of freedom\n",
    "df=10\n",
    "# x-values for the plot\n",
    "x=np.linspace(0,30,500)\n",
    "# probability density function values\n",
    "pdf=chi2.pdf(x,df)\n",
    "# create the plot\n",
    "fig,ax=plt.subplots(figsize=(8,4))\n",
    "ax.plot(x,pdf,color='black',linewidth=2)\n",
    "# shade the area corresponding to a chi-square statistic of 15\n",
    "x_shade=np.linspace(0,15,500)\n",
    "ax.fill_between(x_shade,chi2.pdf(x_shade,df),color='red',alpha=0.7)\n",
    "# add labels and a title\n",
    "ax.set_xlabel('Chi-Square Statistic')\n",
    "ax.set_ylabel('Probability Density')\n",
    "ax.set_title('Chi-Square Distribution with 10 Degrees of Freedom')\n",
    "# show the plot\n",
    "plt.show()"
   ]
  },
  {
   "cell_type": "raw",
   "id": "c41b847b-ed92-4cea-9f68-18c12f43375d",
   "metadata": {},
   "source": [
    "Q7. A random sample of 1000 people was asked if they preferred Coke or Pepsi. Of the sample, 520\n",
    "preferred Coke. Calculate a 99% confidence interval for the true proportion of people in the population who\n",
    "prefer Coke.\n"
   ]
  },
  {
   "cell_type": "code",
   "execution_count": 18,
   "id": "94a49219-f6dc-4be3-ac59-28a72d309c29",
   "metadata": {},
   "outputs": [
    {
     "name": "stdin",
     "output_type": "stream",
     "text": [
      "enter the sample size 1000\n",
      "enter the number of people who prefer coke 520\n"
     ]
    },
    {
     "name": "stdout",
     "output_type": "stream",
     "text": [
      "99% confidence interval for the true proportion of people in the population who prefer Coke lies in range: (0.47930246089012263, 0.5606975391098774)\n"
     ]
    }
   ],
   "source": [
    "import math\n",
    "#sample size\n",
    "n=float(input(\"enter the sample size\"))\n",
    "#number of individuals who prefer Coke\n",
    "x=float(input(\"enter the number of people who prefer coke\"))\n",
    "def mue(a,b):\n",
    "    #sample Propotion\n",
    "    p=b/a\n",
    "    #calculate standard error for 99% confidence interval (2.576 is the critical value for 99%ci)\n",
    "    moe=(math.sqrt((p*(1-p))/n))*2.576\n",
    "    moe_pos,moe_neg=p+moe,p-moe\n",
    "    return moe_neg,moe_pos\n",
    "mean=mue(n,x)\n",
    "print(\"99% confidence interval for the true proportion of people in the population who prefer Coke lies in range:\",mean)"
   ]
  },
  {
   "cell_type": "raw",
   "id": "9251d779-77cf-41fe-a62f-b4d633f5f9f1",
   "metadata": {},
   "source": [
    "Q8. A researcher hypothesizes that a coin is biased towards tails. They flip the coin 100 times and observe\n",
    "45 tails. Conduct a chi-square goodness of fit test to determine if the observed frequencies match the\n",
    "expected frequencies of a fair coin. Use a significance level of 0.05.\n"
   ]
  },
  {
   "cell_type": "code",
   "execution_count": 26,
   "id": "ceadcd38-e69e-4ca6-957b-56c693bdb628",
   "metadata": {},
   "outputs": [
    {
     "name": "stdout",
     "output_type": "stream",
     "text": [
      "H0:The coin is fair\n",
      "H1:The coin is not fair\n",
      "observed_values= [45, 55]\n",
      "expected_values= [50, 50]\n",
      "Degree of freedom 1\n",
      "significance_value= 0.05\n",
      "chi_square_statistic= 1.0\n",
      "p_value= 0.31731050786291115\n",
      "critical_value= 3.841458820694124\n",
      "we fail to reject the null hypothesis.\n",
      "Conclusion:The coin is fair\n"
     ]
    }
   ],
   "source": [
    "import scipy.stats as stats\n",
    "#null and alternate hypothesis\n",
    "print(\"H0:The coin is fair\")\n",
    "print(\"H1:The coin is not fair\")\n",
    "# Define observed values and expected values\n",
    "observed_values = [45, 55]  # 45 tails, 55 heads\n",
    "expected_values = [50, 50]  # assuming a fair coin\n",
    "print(\"observed_values=\",observed_values)\n",
    "print(\"expected_values=\",expected_values)\n",
    "#degree of freedom\n",
    "dof=len(expected_values)-1\n",
    "# Calculate the chi-square statistic and p-value\n",
    "significance_level = 0.05\n",
    "chi_square_statistic, p_value = stats.chisquare(observed_values, expected_values)\n",
    "critical_value=stats.chi2.ppf(1-significance_level,dof)\n",
    "print(\"Degree of freedom\",dof)\n",
    "print(\"significance_value=\",significance_level)\n",
    "print(\"chi_square_statistic=\",chi_square_statistic)\n",
    "print(\"p_value=\",p_value)\n",
    "print(\"critical_value=\",critical_value)\n",
    "if p_value<critical_value:\n",
    "    print(\"we fail to reject the null hypothesis.\\nConclusion:The coin is fair\")\n",
    "else:\n",
    "    print(\"we reject the null hypothesis.\\nConclusion:The coin is biased\")"
   ]
  },
  {
   "cell_type": "raw",
   "id": "fdff57e3-8b2e-46ab-b709-11b4802ff165",
   "metadata": {},
   "source": [
    "Q9. A study was conducted to determine if there is an association between smoking status (smoker or\n",
    "non-smoker) and lung cancer diagnosis (yes or no). The results are shown in the contingency table below.\n",
    "Conduct a chi-square test for independence to determine if there is a significant association between\n",
    "smoking status and lung cancer diagnosis.\n",
    "\n",
    "            Lung Cancer: Yes     Lung Cancer: No\n",
    "Smoker        60                      140\n",
    "Non-smoker    30                      170\n",
    "\n",
    "Use a significance level of 0.05."
   ]
  },
  {
   "cell_type": "code",
   "execution_count": 32,
   "id": "43dce167-c58c-40d7-903e-cb4f590ef757",
   "metadata": {},
   "outputs": [
    {
     "name": "stdout",
     "output_type": "stream",
     "text": [
      "H0: there is no significant association between smoking status and lung cancer diagnosis.\n",
      "H1: there is a significant association between smoking status and lung cancer diagnosis.\n",
      "Chi-square statistic= 12.057347670250895\n",
      "P-value= 0.0005158863863703744\n",
      "significant_value= 0.05\n",
      "Degrees of freedom= 1\n",
      "We reject null hypothesis.\n",
      "Conclusion:There is a significant association between smoking status and lung cancer diagnosis.\n"
     ]
    }
   ],
   "source": [
    "import numpy as np\n",
    "from scipy.stats import chi2_contingency\n",
    "#null amd alternate hypothesis\n",
    "print(\"H0: there is no significant association between smoking status and lung cancer diagnosis.\")\n",
    "print(\"H1: there is a significant association between smoking status and lung cancer diagnosis.\")\n",
    "# Define the contingency table\n",
    "observed = np.array([[60,140],[30,170]])\n",
    "significant_value=0.05\n",
    "# Calculate the chi-square statistic, p-value, degrees of freedom, and expected frequencies\n",
    "chi2, p, dof, expected = chi2_contingency(observed)\n",
    "# Print the results\n",
    "print(\"Chi-square statistic=\",chi2)\n",
    "print(\"P-value=\",p)\n",
    "print(\"significant_value=\",significant_value)\n",
    "print(\"Degrees of freedom=\",dof)\n",
    "if p<significant_value:\n",
    "    print(\"We reject null hypothesis.\\nConclusion:There is a significant association between smoking status and lung cancer diagnosis.\")\n",
    "else:\n",
    "    print(\"We fail to reject null hypothesis.\\nConclusion:There is no significant association between smoking status and lung cancer diagnosis.\")"
   ]
  },
  {
   "cell_type": "raw",
   "id": "de3da63b-b57a-4932-90af-0e0b85b6ce86",
   "metadata": {},
   "source": [
    "Q10. A study was conducted to determine if the proportion of people who prefer milk chocolate, dark\n",
    "chocolate, or white chocolate is different in the U.S. versus the U.K. A random sample of 500 people from\n",
    "the U.S. and a random sample of 500 people from the U.K. were surveyed. The results are shown in the\n",
    "contingency table below. Conduct a chi-square test for independence to determine if there is a significant\n",
    "association between chocolate preference and country of origin.\n",
    "             Milk Chocolate  Dark Chocolate  White Chocolate\n",
    "U.S. (n=500)      200            150              150\n",
    "U.K. (n=500)      225            175              100\n",
    "\n",
    "Use a significance level of 0.01.\n",
    "\n"
   ]
  },
  {
   "cell_type": "code",
   "execution_count": 31,
   "id": "8df00930-552d-4a61-893a-70ac14d17dd5",
   "metadata": {},
   "outputs": [
    {
     "name": "stdout",
     "output_type": "stream",
     "text": [
      "H0:There is no association between chocolate preference and country of origin.\n",
      "H1:There is an association between chocolate preference and country of origin.\n",
      "Observed values:\n",
      " [[200 150 150]\n",
      " [225 175 100]]\n",
      "Chi-square statistic= 13.393665158371041\n",
      "P-value= 0.0012348168997745918\n",
      "significant value= 0.01\n",
      "We reject the null hypothesis.\n",
      "Conclusion:There is an association between chocolate preference and country of origin.\n"
     ]
    }
   ],
   "source": [
    "import numpy as np\n",
    "import scipy.stats as stats\n",
    "# Define null hypothesis, alternative hypothesis, and significance level\n",
    "print(\"H0:There is no association between chocolate preference and country of origin.\")\n",
    "print(\"H1:There is an association between chocolate preference and country of origin.\")\n",
    "significance_level = 0.01\n",
    "# Define observed values\n",
    "observed_values = np.array([[200, 150, 150], [225, 175, 100]])\n",
    "# Calculate the chi-square statistic and p-value\n",
    "chi_square_statistic, p_value, _, _ = stats.chi2_contingency(observed_values)\n",
    "print(\"Observed values:\\n\",observed_values)\n",
    "print(\"Chi-square statistic=\",chi_square_statistic)\n",
    "print(\"P-value=\",p_value)\n",
    "print(\"significant value=\",significance_level)\n",
    "# Compare p-value to significance level to determine whether to reject null hypothesis\n",
    "if p_value < significance_level:\n",
    "    print(\"We reject the null hypothesis.\\nConclusion:There is an association between chocolate preference and country of origin.\")\n",
    "else:\n",
    "    print(\"Fail to reject the null hypothesis.\\nConclusion:There is no association between chocolate preference and country of origin.\")\n",
    "# Print the observed and expected values, and the chi-square statistic and p-value"
   ]
  },
  {
   "cell_type": "raw",
   "id": "1028aada-a5ef-4aa8-9a0b-19751776971c",
   "metadata": {},
   "source": [
    "Q11. A random sample of 30 people was selected from a population with an unknown mean and standard\n",
    "deviation. The sample mean was found to be 72 and the sample standard deviation was found to be 10.\n",
    "Conduct a hypothesis test to determine if the population mean is significantly different from 70. Use a\n",
    "significance level of 0.05."
   ]
  },
  {
   "cell_type": "code",
   "execution_count": 37,
   "id": "98f45896-65f5-49f4-b176-b4b7350eeb19",
   "metadata": {},
   "outputs": [
    {
     "name": "stdout",
     "output_type": "stream",
     "text": [
      "H0:The population mean is equal to 70\n",
      "H1:The population mean is not equal to 70\n",
      "range of Confidence interval: -1.96 , 1.96\n",
      "z value: 0.10954451150103323\n",
      "we fail to reject the null hypothesis\n",
      "conclusion:The population mean is equal to 70\n"
     ]
    }
   ],
   "source": [
    "import math\n",
    "import scipy.stats as stats\n",
    "#assuming no effects of caffeine u=0\n",
    "u=70\n",
    "n=30\n",
    "x=72\n",
    "sd=10\n",
    "#null and alternate hypothesis\n",
    "print(\"H0:The population mean is equal to 70\")\n",
    "print(\"H1:The population mean is not equal to 70\")\n",
    "#confidence interval will be 95% since significance value is 0.05 and \n",
    "#since we are finding out whether sample mean be equal to 10mmHg hence we can go for two tail test\n",
    "#ie. 1-0.25=0.9750 hence confidence interval be equal to 1.96\n",
    "cip=1.96\n",
    "cim=-1.96\n",
    "print(\"range of Confidence interval:\",cim,\",\",cip)\n",
    "#finding p value of the 2 independent samples\n",
    "z=((x-u)/((sd**2)/math.sqrt(n)))\n",
    "print(\"z value:\",z)\n",
    "if z>cip or z<cim:\n",
    "    print(\"we reject the null hypothesis\\nconclusion:The population mean is not equal to 70\")\n",
    "else:\n",
    "    print(\"we fail to reject the null hypothesis\\nconclusion:The population mean is equal to 70\")"
   ]
  }
 ],
 "metadata": {
  "kernelspec": {
   "display_name": "Python 3 (ipykernel)",
   "language": "python",
   "name": "python3"
  },
  "language_info": {
   "codemirror_mode": {
    "name": "ipython",
    "version": 3
   },
   "file_extension": ".py",
   "mimetype": "text/x-python",
   "name": "python",
   "nbconvert_exporter": "python",
   "pygments_lexer": "ipython3",
   "version": "3.10.6"
  }
 },
 "nbformat": 4,
 "nbformat_minor": 5
}
