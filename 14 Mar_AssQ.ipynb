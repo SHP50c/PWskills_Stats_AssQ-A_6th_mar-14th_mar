{
 "cells": [
  {
   "cell_type": "markdown",
   "id": "0c3010ea-99e9-44f3-80f2-32d580dd6268",
   "metadata": {},
   "source": [
    "Q1. Write a Python function that takes in two arrays of data and calculates the F-value for a variance ratio\n",
    "test. The function should return the F-value and the corresponding p-value for the test.\n"
   ]
  },
  {
   "cell_type": "code",
   "execution_count": 19,
   "id": "2e3fbe5e-c7ea-4320-8448-225ed3561252",
   "metadata": {},
   "outputs": [
    {
     "name": "stdout",
     "output_type": "stream",
     "text": [
      "array1: [ 2  5  9 10 15]\n",
      "array2: [16 15 17  1  8]\n",
      "degree of freedom of array1 is: 4\n",
      "degree of freedom of array2 is: 4\n",
      "f_test: 0.5334773218142548\n",
      "p_value: 0.2788702331026428\n"
     ]
    }
   ],
   "source": [
    "import numpy as np\n",
    "from scipy.stats import f\n",
    "a=np.random.randint(1,20,5)\n",
    "b=np.random.randint(1,20,5)\n",
    "print(\"array1:\",a)\n",
    "print(\"array2:\",b)\n",
    "f_test=np.var(a)/np.var(b)\n",
    "df1=len(a)-1\n",
    "df2=len(b)-1\n",
    "print(\"degree of freedom of array1 is:\",df1)\n",
    "print(\"degree of freedom of array2 is:\",df2)\n",
    "p_value=f.cdf(f_test,df1,df2)\n",
    "print(\"f_test:\",f_test)\n",
    "print(\"p_value:\",p_value)"
   ]
  },
  {
   "cell_type": "markdown",
   "id": "a7403d2a-ab9a-4259-bfd4-ab3222d624f7",
   "metadata": {},
   "source": [
    "Q2. Given a significance level of 0.05 and the degrees of freedom for the numerator and denominator of an\n",
    "F-distribution, write a Python function that returns the critical F-value for a two-tailed test.\n"
   ]
  },
  {
   "cell_type": "code",
   "execution_count": 9,
   "id": "0467c5b7-11de-4623-91db-89cf7059f36d",
   "metadata": {},
   "outputs": [
    {
     "name": "stdin",
     "output_type": "stream",
     "text": [
      "Enter degree of freedom numerator 3\n",
      "Enter degree of freedom denominator 2\n"
     ]
    },
    {
     "name": "stdout",
     "output_type": "stream",
     "text": [
      "critical f value for two tailed test is: 39.16549456401362\n"
     ]
    }
   ],
   "source": [
    "from scipy.stats import f\n",
    "def f_value(s,d1,d2):\n",
    "    critical_f=f.ppf(1-s/2,d1,d2)\n",
    "    return critical_f\n",
    "dfn=int(input(\"Enter degree of freedom numerator\"))\n",
    "dfd=int(input(\"Enter degree of freedom denominator\"))\n",
    "s=0.05\n",
    "c=f_value(s,dfn,dfd)\n",
    "print(\"critical f value for two tailed test is:\",c)"
   ]
  },
  {
   "cell_type": "markdown",
   "id": "229f6459-622d-475a-b261-fd14a32330b6",
   "metadata": {},
   "source": [
    "Q3. Write a Python program that generates random samples from two normal distributions with known\n",
    "variances and uses an F-test to determine if the variances are equal. The program should output the F-\n",
    "value, degrees of freedom, and p-value for the test.\n",
    "\n"
   ]
  },
  {
   "cell_type": "code",
   "execution_count": 50,
   "id": "60fc98a4-a098-43dc-81a4-924690eb018e",
   "metadata": {},
   "outputs": [
    {
     "name": "stdout",
     "output_type": "stream",
     "text": [
      "Sample 1: [10.78887717 11.92612645  1.65748818 11.21020963 11.03754029 13.02318471\n",
      "  8.42120795  8.44494038 13.60754976  5.31052988]\n",
      "\n",
      "Sample 2: [19.77454175 25.33536676 12.86471011 14.88459084  1.06250976  5.83264128\n",
      " 16.34717528 12.17089208  8.91143522 11.39721479]\n",
      "\n",
      "H0:Variance of both  the samples are equal.\n",
      "\n",
      "H1:Variance of both the samples are not equal.\n",
      "\n",
      "Variance of sample 1= 13.715138040311547\n",
      "\n",
      "Variance of sample 2= 47.38614776392283\n",
      "\n",
      "We fail to reject null hypothesis.\n",
      "Conclusion:Variance of both the sample is equal.\n",
      "\n",
      "F-value= 3.4550252155425207\n",
      "\n",
      "Critical-value= 4.025994158282978\n",
      "\n",
      "Degrees of freedom (numerator)= 9\n",
      "\n",
      "Degrees of freedom (denominator)= 9\n",
      "\n",
      "P-value= 0.03945545491738405\n"
     ]
    }
   ],
   "source": [
    "import numpy as np\n",
    "from scipy.stats import f\n",
    "def f_test(sample1, sample2, alpha=0.05):\n",
    "    print(\"Sample 1:\",sample1)\n",
    "    print(\"\\nSample 2:\",sample2)\n",
    "    print(\"\\nH0:Variance of both  the samples are equal.\")\n",
    "    print(\"\\nH1:Variance of both the samples are not equal.\")\n",
    "    s1_var = np.var(sample1, ddof=1)\n",
    "    s2_var = np.var(sample2, ddof=1)\n",
    "    print(\"\\nVariance of sample 1=\",s1_var)\n",
    "    print(\"\\nVariance of sample 2=\",s2_var)\n",
    "    f_value = s1_var / s2_var if s1_var > s2_var else s2_var / s1_var\n",
    "    dfn = len(sample1) - 1 \n",
    "    dfd = len(sample2) - 1 \n",
    "    critical_f=f.ppf(1-alpha/2,dfn,dfd)\n",
    "    p_value = f.sf(f_value, dfn, dfd)\n",
    "    if f_value>critical_f:\n",
    "        print(\"\\nWe reject the null hypothesis.\\nConclusion:Variance of both the samples are not equal.\")\n",
    "    else:\n",
    "        print(\"\\nWe fail to reject null hypothesis.\\nConclusion:Variance of both the sample is equal.\")\n",
    "    return f_value, dfn, dfd, p_value, critical_f\n",
    "sample1 = np.random.normal(10, 3, size=10)\n",
    "sample2 = np.random.normal(10, 6, size=10)\n",
    "f_value, dfn, dfd, p_value, critical_value = f_test(sample1, sample2)\n",
    "print(\"\\nF-value=\",f_value)\n",
    "print(\"\\nCritical-value=\",critical_value)\n",
    "print(\"\\nDegrees of freedom (numerator)=\",dfn)\n",
    "print(\"\\nDegrees of freedom (denominator)=\",dfd)\n",
    "print(\"\\nP-value=\",p_value)"
   ]
  },
  {
   "cell_type": "markdown",
   "id": "3660ee96-82de-441d-9bbe-4f981bf68533",
   "metadata": {},
   "source": [
    "Q4.The variances of two populations are known to be 10 and 15. A sample of 12 observations is taken from\n",
    "each population. Conduct an F-test at the 5% significance level to determine if the variances are\n",
    "significantly different.\n"
   ]
  },
  {
   "cell_type": "code",
   "execution_count": 55,
   "id": "5d0d27fc-9fe8-420b-9bd3-9fac10f2413b",
   "metadata": {},
   "outputs": [
    {
     "name": "stdout",
     "output_type": "stream",
     "text": [
      "H0:There is no significance difference between the variance of both the population\n",
      "H1:There is significant difference between the variance of both the population\n",
      "f_test= 0.6666666666666666\n",
      "critical-value= 2.8179304699530863\n",
      "We fail to reject the null hypothesis.\n",
      "Conclusion:There is no significant difference between the variances.\n"
     ]
    }
   ],
   "source": [
    "import numpy as np\n",
    "from scipy.stats import f\n",
    "print(\"H0:There is no significance difference between the variance of both the population\")\n",
    "print(\"H1:There is significant difference between the variance of both the population\")\n",
    "n1 = 12\n",
    "n2 = 12\n",
    "var1 = 10\n",
    "var2 = 15\n",
    "f_test = var1 / var2\n",
    "critical = f.ppf(1-0.05, n1 - 1, n2 - 1)\n",
    "print(\"f_test=\",f_test)\n",
    "print(\"critical-value=\",critical)\n",
    "if f_stat>critical:\n",
    "    print(\"We reject the null hypothesis.\\nConclusion:The variances are significantly different.\")\n",
    "else:\n",
    "    print(\"We fail to reject the null hypothesis.\\nConclusion:There is no significant difference between the variances.\")"
   ]
  },
  {
   "cell_type": "markdown",
   "id": "024b1161-b7cf-4704-aa90-844d7f57f644",
   "metadata": {},
   "source": [
    "Q5. A manufacturer claims that the variance of the diameter of a certain product is 0.005. A sample of 25\n",
    "products is taken, and the sample variance is found to be 0.006. Conduct an F-test at the 1% significance\n",
    "level to determine if the claim is justified.\n"
   ]
  },
  {
   "cell_type": "code",
   "execution_count": 71,
   "id": "e28ac2c0-f158-4238-8e4f-7781e3b599dc",
   "metadata": {},
   "outputs": [
    {
     "name": "stdout",
     "output_type": "stream",
     "text": [
      "H0:There is diffrence in the variance\n",
      "H1:There is no difference in the variance\n",
      "f-test= 1.2\n",
      "p-value= 0.0\n",
      "We reject the null hypothesis.\n",
      "Conclusion:The manufacturer's claim is not justified.\n"
     ]
    }
   ],
   "source": [
    "import numpy as np\n",
    "from scipy.stats import f\n",
    "print(\"H0:There is diffrence in the variance\")\n",
    "print(\"H1:There is no difference in the variance\")\n",
    "n = 25\n",
    "sample_var = 0.006\n",
    "hypo_var = 0.005\n",
    "f_stat = sample_var / hypo_var\n",
    "p_val = f.cdf(f_stat, n - 1, np.inf)\n",
    "alpha = 0.01\n",
    "print(\"f-test=\",f_stat)\n",
    "print(\"p-value=\",p_val)\n",
    "if p_val < alpha:\n",
    "    print(\"We reject the null hypothesis.\\nConclusion:The manufacturer's claim is not justified.\")\n",
    "else:\n",
    "    print(\"We fail to reject the null hypothesis.\\nConclusion:The manufacturer's claim is justified.\")"
   ]
  },
  {
   "cell_type": "markdown",
   "id": "a6f0764c-212f-4b15-a827-64c572902045",
   "metadata": {},
   "source": [
    "Q6. Write a Python function that takes in the degrees of freedom for the numerator and denominator of an\n",
    "F-distribution and calculates the mean and variance of the distribution. The function should return the\n",
    "mean and variance as a tuple.\n"
   ]
  },
  {
   "cell_type": "code",
   "execution_count": 76,
   "id": "1c1c1ea8-1a40-4329-a360-4c9b7f6fad7f",
   "metadata": {},
   "outputs": [
    {
     "name": "stdout",
     "output_type": "stream",
     "text": [
      "Mean,Variance  (1.25, 1.3541666666666667)\n"
     ]
    }
   ],
   "source": [
    "import numpy as np\n",
    "from scipy.stats import f\n",
    "def f_distribution_mean_var(dfn, dfd):\n",
    "    mean = dfd / (dfd - 2)\n",
    "    variance = (2 * dfd**2 * (dfn + dfd - 2)) / (dfn * (dfd - 2)**2 * (dfd - 4))\n",
    "    return (mean, variance)\n",
    "mean = f_distribution_mean_var(5, 10)\n",
    "print(\"Mean,Variance \", mean)"
   ]
  },
  {
   "cell_type": "markdown",
   "id": "7636c341-6607-4930-b4a1-2c37727cba25",
   "metadata": {},
   "source": [
    "Q7. A random sample of 10 measurements is taken from a normal population with unknown variance. The\n",
    "sample variance is found to be 25. Another random sample of 15 measurements is taken from another\n",
    "normal population with unknown variance, and the sample variance is found to be 20. Conduct an F-test\n",
    "at the 10% significance level to determine if the variances are significantly different.\n"
   ]
  },
  {
   "cell_type": "code",
   "execution_count": 77,
   "id": "456a761b-88ed-40c7-b4d6-dd57f368c73d",
   "metadata": {},
   "outputs": [
    {
     "name": "stdout",
     "output_type": "stream",
     "text": [
      "H0:There is no significance difference between the variance of both the population\n",
      "H1:There is significant difference between the variance of both the population\n",
      "f_test= 1.25\n",
      "critical-value= 2.6457907352338195\n",
      "We fail to reject the null hypothesis.\n",
      "Conclusion:There is no significant difference between the variances.\n"
     ]
    }
   ],
   "source": [
    "import numpy as np\n",
    "from scipy.stats import f\n",
    "print(\"H0:There is no significance difference between the variance of both the population\")\n",
    "print(\"H1:There is significant difference between the variance of both the population\")\n",
    "n1 = 10\n",
    "n2 = 15\n",
    "var1 = 25\n",
    "var2 = 20\n",
    "f_test = var1 / var2\n",
    "critical = f.ppf(1-0.05, n1 - 1, n2 - 1)\n",
    "print(\"f_test=\",f_test)\n",
    "print(\"critical-value=\",critical)\n",
    "if f_stat>critical:\n",
    "    print(\"We reject the null hypothesis.\\nConclusion:The variances are significantly different.\")\n",
    "else:\n",
    "    print(\"We fail to reject the null hypothesis.\\nConclusion:There is no significant difference between the variances.\")"
   ]
  },
  {
   "cell_type": "markdown",
   "id": "2e3cbaf0-2afe-4557-b186-f3d14ce2352d",
   "metadata": {},
   "source": [
    "Q8. The following data represent the waiting times in minutes at two different restaurants on a Saturday\n",
    "night: Restaurant A: 24, 25, 28, 23, 22, 20, 27; Restaurant B: 31, 33, 35, 30, 32, 36. Conduct an F-test at the 5%\n",
    "significance level to determine if the variances are significantly different.\n"
   ]
  },
  {
   "cell_type": "code",
   "execution_count": 83,
   "id": "be0ea9af-89e1-4c40-86c1-a2837b741d33",
   "metadata": {},
   "outputs": [
    {
     "name": "stdout",
     "output_type": "stream",
     "text": [
      "H0:There is no significant difference between the sample data.\n",
      "H1:There is significant a difference between the sample data.\n",
      "restaurant a= [24, 25, 28, 23, 22, 20, 27]\n",
      "restaurant b= [31, 33, 35, 30, 32, 36]\n",
      "f_test= 1.496767651159843\n",
      "Degree of freedom for restraurant a: 6\n",
      "Degree of freedom for restraurant b: 5\n",
      "critical value 4.950288068694318\n",
      "We fail to Reject the Null Hypothesis.\n",
      "Conclusion:There is significant difference between the sample data.\n"
     ]
    }
   ],
   "source": [
    "import numpy as np\n",
    "import scipy.stats as stat\n",
    "print(\"H0:There is no significant difference between the sample data.\")\n",
    "print(\"H1:There is significant a difference between the sample data.\")\n",
    "restaurant_a=[24, 25, 28, 23, 22, 20, 27]\n",
    "restaurant_b=[31, 33, 35, 30, 32, 36]\n",
    "print(\"restaurant a=\",restaurant_a)\n",
    "print(\"restaurant b=\",restaurant_b)\n",
    "f_test=np.var(restaurant_a)/np.var(restaurant_b)\n",
    "print(\"f_test=\",f_test)\n",
    "df1=len(restaurant_a)-1\n",
    "df2=len(restaurant_b)-1\n",
    "print(\"Degree of freedom for restraurant a:\",df1)\n",
    "print(\"Degree of freedom for restraurant b:\",df2)\n",
    "signifance_value=0.05\n",
    "critical_value=stat.f.ppf(1-signifance_value,df1,df2)\n",
    "print(\"critical value\",critical_value)\n",
    "if f_test>critical_value:\n",
    "    print(\"Reject the Null Hypothesis.\\nConclusion:There is no significant difference between the sample data.\")\n",
    "else:\n",
    "    print(\"We fail to Reject the Null Hypothesis.\\nConclusion:There is significant difference between the sample data.\")"
   ]
  },
  {
   "cell_type": "markdown",
   "id": "c547af69-5eed-48bb-a1c6-a41cba4450d7",
   "metadata": {},
   "source": [
    "Q9. The following data represent the test scores of two groups of students: Group A: 80, 85, 90, 92, 87, 83;\n",
    "Group B: 75, 78, 82, 79, 81, 84. Conduct an F-test at the 1% significance level to determine if the variances\n",
    "are significantly different."
   ]
  },
  {
   "cell_type": "code",
   "execution_count": 84,
   "id": "4b8b580b-838a-4f1c-8ff4-304d07312a2a",
   "metadata": {},
   "outputs": [
    {
     "name": "stdout",
     "output_type": "stream",
     "text": [
      "H0:There is no significant difference between the sample data.\n",
      "H1:There is significant a difference between the sample data.\n",
      "group a= [80, 85, 90, 92, 87, 83]\n",
      "group b= [75, 78, 82, 79, 81, 84]\n",
      "f_test= 1.9442622950819677\n",
      "Degree of freedom for restraurant a: 5\n",
      "Degree of freedom for restraurant b: 5\n",
      "critical value 10.967020650907992\n",
      "We fail to Reject the Null Hypothesis.\n",
      "Conclusion:There is significant difference between the sample data.\n"
     ]
    }
   ],
   "source": [
    "import numpy as np\n",
    "import scipy.stats as stat\n",
    "print(\"H0:There is no significant difference between the sample data.\")\n",
    "print(\"H1:There is significant a difference between the sample data.\")\n",
    "group_a=[80, 85, 90, 92, 87, 83]\n",
    "group_b=[75, 78, 82, 79, 81, 84]\n",
    "print(\"group a=\",group_a)\n",
    "print(\"group b=\",group_b)\n",
    "f_test=np.var(group_a)/np.var(group_b)\n",
    "print(\"f_test=\",f_test)\n",
    "df1=len(group_a)-1\n",
    "df2=len(group_b)-1\n",
    "print(\"Degree of freedom for restraurant a:\",df1)\n",
    "print(\"Degree of freedom for restraurant b:\",df2)\n",
    "signifance_value=0.01\n",
    "critical_value=stat.f.ppf(1-signifance_value,df1,df2)\n",
    "print(\"critical value\",critical_value)\n",
    "if f_test>critical_value:\n",
    "    print(\"Reject the Null Hypothesis.\\nConclusion:There is no significant difference between the sample data.\")\n",
    "else:\n",
    "    print(\"We fail to Reject the Null Hypothesis.\\nConclusion:There is significant difference between the sample data.\")"
   ]
  },
  {
   "cell_type": "code",
   "execution_count": null,
   "id": "738cbf0a-7246-497f-99b4-4d1a4b5b6a23",
   "metadata": {},
   "outputs": [],
   "source": []
  }
 ],
 "metadata": {
  "kernelspec": {
   "display_name": "Python 3 (ipykernel)",
   "language": "python",
   "name": "python3"
  },
  "language_info": {
   "codemirror_mode": {
    "name": "ipython",
    "version": 3
   },
   "file_extension": ".py",
   "mimetype": "text/x-python",
   "name": "python",
   "nbconvert_exporter": "python",
   "pygments_lexer": "ipython3",
   "version": "3.10.6"
  }
 },
 "nbformat": 4,
 "nbformat_minor": 5
}
