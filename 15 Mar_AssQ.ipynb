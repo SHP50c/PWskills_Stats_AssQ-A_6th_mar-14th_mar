{
 "cells": [
  {
   "cell_type": "markdown",
   "id": "d9ac8b6f-281b-4d76-ad53-38896965733f",
   "metadata": {},
   "source": [
    "# Q1. Explain the following with an example:\n",
    "\n",
    "1. Artificial Intelligence<br>\n",
    "2. Machine Learning<br>\n",
    "3. Deep Learning<br>"
   ]
  },
  {
   "cell_type": "markdown",
   "id": "6279d218-ab82-49ad-a377-98d28669d4bc",
   "metadata": {},
   "source": [
    "<h5><h5>1.Artificial Intelligence (AI):</h5>\n",
    "Artificial Intelligence (AI) is the simulation of human intelligence processes by computer systems. AI can perform tasks that typically require human intelligence, such as understanding natural language, recognizing speech and images, and making decisions. AI can be divided into two main categories:\n",
    "\n",
    "i) Narrow or Weak AI<br>\n",
    "ii) General or Strong AI\n",
    "\n",
    "Example: One example of AI is self-driving cars. These cars use computer vision and machine learning algorithms to analyze their surroundings and make decisions based on that analysis. They can navigate traffic, avoid obstacles, and make decisions based on traffic laws and road conditions.\n",
    "\n",
    "<h5>2.Machine Learning (ML):</h5>\n",
    "Machine Learning (ML) is a subset of AI that uses statistical techniques to enable computer systems to improve their performance on a specific task by learning from data without being explicitly programmed. Machine learning algorithms can recognize patterns in data and use those patterns to make predictions or decisions. Machine learning algorithms can be classified into three main categories:\n",
    "\n",
    "i) Supervised Learning<br>\n",
    "ii) Unsupervised Learning<br>\n",
    "iii) Reinforcement Learning<br>\n",
    "\n",
    "Example: An example of machine learning is email filtering. Email providers like Gmail use machine learning algorithms to classify incoming emails as spam or not spam. The algorithm learns from patterns in the text and other features of the email to make a prediction about whether the email is spam or not.\n",
    "\n",
    "<h5>3.Deep Learning (DL):</h5>\n",
    "Deep Learning (DL) is a subset of machine learning that uses neural networks to model and solve complex problems. Deep learning algorithms use multiple layers of interconnected nodes to process and learn from data. Deep learning is capable of learning from unstructured data such as images, videos, and audio.\n",
    "\n",
    "Example: An example of deep learning is image recognition. Deep learning models can be trained to identify objects within images, such as cars or people. These models use convolutional neural networks (CNNs) to analyze the features of an image and classify it into different categories based on those features. For example, a deep learning model could be trained to identify different breeds of dogs within a photo."
   ]
  },
  {
   "cell_type": "markdown",
   "id": "93231133-ccc8-4be4-b1eb-68cb2611eeeb",
   "metadata": {},
   "source": [
    "# Q2. What is supervised learning? List some examples of supervised learning."
   ]
  },
  {
   "cell_type": "markdown",
   "id": "f7e9f1c6-d15d-4d42-9355-fe064e3a2595",
   "metadata": {},
   "source": [
    "Supervised learning is a type of machine learning in which a model is trained on a labeled dataset. In supervised learning, the model learns to map input features to the correct output by using the labeled examples provided in the training set. The objective of the model is to predict the correct output for new, unseen input examples.\n",
    "\n",
    "<h5>Examples of supervised learning</h5>\n",
    "\n",
    "<h5>1.Image classification:</h5> The task of identifying the content of an image, such as distinguishing between images of cats and dogs.<br>\n",
    "<h5>2.Spam detection:</h5> The task of classifying emails as either spam or not spam based on their content.<br>\n",
    "<h5>3.Sentiment analysis:</h5> The task of classifying text as either positive, negative, or neutral based on the sentiment expressed in\n",
    "  the text.<br>\n",
    "<h5>4.Fraud detection:</h5> The task of identifying fraudulent transactions based on historical data."
   ]
  },
  {
   "cell_type": "markdown",
   "id": "c1670577-4d95-45f4-8e32-1237363a7ed3",
   "metadata": {},
   "source": [
    "# Q3. What is unsupervised learning? List some examples of unsupervised learning."
   ]
  },
  {
   "cell_type": "markdown",
   "id": "631ae4ba-0ae7-45a7-9f13-883157a442d3",
   "metadata": {},
   "source": [
    "Unsupervised learning is a type of machine learning in which a model is trained on an unlabeled dataset. In unsupervised learning, the model is not provided with any specific output or label to predict, but rather learns to identify patterns and relationships in the input data. The objective of unsupervised learning is often to discover the underlying structure or clusters in the data.\n",
    "\n",
    "Examples of unsupervised learning:<br>\n",
    "\n",
    "<h5>1.Clustering:</h5> The task of grouping similar examples together based on their characteristics. This can be used for customer\n",
    "segmentation, image segmentation, or anomaly detection.<br>\n",
    "<h5>2.Dimensionality reduction:</h5> The task of reducing the number of features in a dataset while retaining as much of the relevant\n",
    "information as possible. This can be used for visualizing high-dimensional data, speeding up training of supervised learning\n",
    "models, or data compression.<br>\n",
    "<h5>3.Association rule mining:</h5> The task of discovering interesting relationships between items in a dataset. This can be used for\n",
    "market basket analysis or recommendation systems.<br>\n",
    "<h5>4.Generative modeling:</h5> The task of learning the underlying distribution of a dataset and generating new examples that are\n",
    "similar to the original data. This can be used for generating realistic images or music."
   ]
  },
  {
   "cell_type": "markdown",
   "id": "c71a5379-8f27-4caa-a096-6c47751379de",
   "metadata": {},
   "source": [
    "# Q4. What is the difference between AI, ML, DL, and DS?"
   ]
  },
  {
   "cell_type": "markdown",
   "id": "3559127a-fc71-4cdf-844c-ea64eb8056c2",
   "metadata": {},
   "source": [
    "<h5>Artificial Intelligence (AI)</h5> refers to the development of computer systems that can perform tasks that typically require human intelligence, such as natural language processing, computer vision, and decision making. AI can be achieved through various approaches, including rule-based systems, expert systems, and machine learning.\n",
    "\n",
    "<h5>Machine Learning (ML)</h5> is a subset of AI that involves the development of algorithms and statistical models that enable computer systems to improve their performance on a specific task by learning from data without being explicitly programmed. ML can be supervised, unsupervised, or semi-supervised.\n",
    "\n",
    "<h5>Deep Learning (DL)</h5> is a subfield of ML that involves the use of artificial neural networks, which are modeled after the structure and function of the human brain. DL is particularly suited for tasks such as image and speech recognition, natural language processing, and autonomous driving.\n",
    "\n",
    "<h5>Data Science (DS)</h5> is a multidisciplinary field that involves the use of statistical and computational methods to extract insights and knowledge from data. DS combines elements of statistics, mathematics, computer science, and domain expertise to address complex data-driven problems and make data-driven decisions."
   ]
  },
  {
   "cell_type": "markdown",
   "id": "0b5fe9f4-2b74-4b7c-ad03-53dea190343b",
   "metadata": {},
   "source": [
    "# Q5. What are the main differences between supervised learning, unsupervised learning, and semi-supervised learning?"
   ]
  },
  {
   "cell_type": "markdown",
   "id": "944234b2-c79d-4ec0-9d62-ccd5587bbbd8",
   "metadata": {
    "tags": []
   },
   "source": [
    "<h5>Supervised learning:</h5> In supervised learning, the model is trained on labeled data, where the input and output pairs are known. The objective of the model is to learn a mapping between input features and the corresponding output. The labeled data is used to train the model, and the model is then tested on new, unseen data. The goal of supervised learning is to make accurate predictions on new, unseen data.\n",
    "\n",
    "<h5>Unsupervised learning:</h5> In unsupervised learning, the model is trained on unlabeled data, where the input data has no corresponding output. The objective of the model is to identify patterns or structure in the input data. Unsupervised learning can be used for tasks such as clustering, dimensionality reduction, and anomaly detection. The goal of unsupervised learning is to gain insights into the data and discover interesting relationships or anomalies that can be further explored or used for decision-making.\n",
    "\n",
    "<h5>Semi-supervised learning:</h5> In semi-supervised learning, the model is trained on a combination of labeled and unlabeled data. The labeled data is used to guide the learning process, while the unlabeled data is used to improve the generalization performance of the model. Semi-supervised learning can be useful when labeled data is scarce or expensive to obtain. The goal of semi-supervised learning is to make accurate predictions on new, unseen data while using as much of the available data as possible."
   ]
  },
  {
   "cell_type": "markdown",
   "id": "6f5b9e81-12d6-4980-b35c-d41831704b57",
   "metadata": {},
   "source": [
    "# Q6. What is train, test and validation split? Explain the importance of each term."
   ]
  },
  {
   "cell_type": "markdown",
   "id": "c40a8a73-a0df-4636-a885-d1dfb8a3bee9",
   "metadata": {},
   "source": [
    "1. Train set: This is the part of the dataset used to train the model. The model learns the patterns and relationships in the data through this set. Typically, the train set consists of 60-80% of the entire dataset. The train set is important because it is used to teach the model how to make accurate predictions on new, unseen data. The model learns the patterns and relationships in the data through this set.\n",
    "\n",
    "2. Test set: This is the part of the dataset used to evaluate the performance of the trained model on unseen data. The model is applied to the test set, and the resulting predictions are compared to the true values to evaluate the accuracy of the model. Typically, the test set consists of 20-40% of the entire dataset. The test set is important because it is used to evaluate the performance of the trained model on unseen data. This helps to ensure that the model can make accurate predictions on new data and is not overfitting the training data.\n",
    "\n",
    "3. Validation set: This is an optional part of the dataset used to fine-tune the model hyperparameters and prevent overfitting. The validation set is used to evaluate the performance of the model on data that is not used for training or testing. This helps to prevent the model from becoming too complex and overfitting the training data. Typically, the validation set consists of 10-20% of the entire dataset. The validation set is important because it is used to fine-tune the model hyperparameters and prevent overfitting. By evaluating the performance of the model on data that is not used for training or testing, we can ensure that the model is not becoming too complex and overfitting the training data."
   ]
  },
  {
   "cell_type": "markdown",
   "id": "a75d19f4-698e-49a2-aa48-c474ec7659ca",
   "metadata": {},
   "source": [
    "# Q7. How can unsupervised learning be used for anomaly detection?"
   ]
  },
  {
   "cell_type": "markdown",
   "id": "ead0849a-e63d-42e2-b0f9-e746ce509134",
   "metadata": {},
   "source": [
    "Unsupervised learning can be used for anomaly detection by identifying patterns and structures in the data that deviate from the norm. Anomaly detection is the process of identifying data points that are significantly different from the majority of the data, and it is an important problem in many fields, including finance, healthcare, and cybersecurity.\n",
    "\n",
    "Unsupervised learning algorithms do not rely on labeled data, so they can be used to detect anomalies in datasets where there are no pre-defined classes or labels for the anomalies. Clustering, density estimation, dimensionality reduction, and one-class classification are common unsupervised learning techniques used for anomaly detection. By identifying anomalies in the data, we can detect abnormal behavior or events that require further investigation.\n",
    "\n",
    "For example, clustering algorithms can be used to group similar data points together and identify anomalies as data points that do not belong to any cluster or belong to a very small cluster. Density estimation algorithms can be used to estimate the probability distribution of the data and identify anomalies as data points with low probability. Dimensionality reduction algorithms can be used to reduce the number of features in the data while preserving the most important information, and identify anomalies as data points that are far away from the majority of the data in the reduced space. By detecting anomalies in the data, we can identify abnormal behavior or events that require further investigation."
   ]
  },
  {
   "cell_type": "markdown",
   "id": "5c6abd28-01b2-4148-bdd9-54912f28249f",
   "metadata": {},
   "source": [
    "# Q8. List down some commonly used supervised learning algorithms and unsupervised learning algorithms."
   ]
  },
  {
   "cell_type": "markdown",
   "id": "b6161f5f-431b-44bb-99d4-394a6e49ecff",
   "metadata": {},
   "source": [
    "<hr>Supervised Learning Algorithms:</hr>\n",
    "\n",
    "> Linear Regression<br>\n",
    "> Logistic Regression<br>\n",
    "> Decision Trees<br>\n",
    "> Random Forest<br>\n",
    "> Support Vector Machines (SVM)<br>\n",
    "> K-Nearest Neighbors (KNN)<br>\n",
    "> Naive Bayes<br>\n",
    "> Artificial Neural Networks (ANN)<br>\n",
    "> Gradient Boosting Machines (GBM)<br>\n",
    "> XGBoost\n",
    "\n",
    "<hr>Unsupervised Learning Algorithms:</hr>\n",
    "\n",
    ">K-Means Clustering<br>\n",
    ">Hierarchical Clustering<br>\n",
    ">Density-Based Spatial Clustering of Applications with Noise (DBSCAN)<br>\n",
    ">Principal Component Analysis (PCA)<br>\n",
    ">Independent Component Analysis (ICA)<br>\n",
    ">t-Distributed Stochastic Neighbor Embedding (t-SNE)<br>\n",
    ">Self-Organizing Maps (SOM)<br>\n",
    ">Apriori Algorithm for Association Rule Mining<br>\n",
    ">Isolation Forest for Anomaly Detection<br>\n",
    ">Gaussian Mixture Models (GMM)<br>"
   ]
  },
  {
   "cell_type": "markdown",
   "id": "b7d1aa02-b7fa-416d-bf2a-5424b16ee7cc",
   "metadata": {},
   "source": []
  }
 ],
 "metadata": {
  "kernelspec": {
   "display_name": "Python 3 (ipykernel)",
   "language": "python",
   "name": "python3"
  },
  "language_info": {
   "codemirror_mode": {
    "name": "ipython",
    "version": 3
   },
   "file_extension": ".py",
   "mimetype": "text/x-python",
   "name": "python",
   "nbconvert_exporter": "python",
   "pygments_lexer": "ipython3",
   "version": "3.10.6"
  }
 },
 "nbformat": 4,
 "nbformat_minor": 5
}
